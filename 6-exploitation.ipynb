{
 "cells": [
  {
   "cell_type": "markdown",
   "metadata": {},
   "source": [
    "# Data exloration"
   ]
  },
  {
   "cell_type": "markdown",
   "metadata": {},
   "source": [
    "![steam_logo](https://buy.thewitcher.com/img/shops/steam.svg)"
   ]
  },
  {
   "cell_type": "markdown",
   "metadata": {},
   "source": [
    "Now that we have a good overview of our data, lets try to create a graphical representation of them. As computed previously, we are now equiped with a rating metric for our games that can be used to create our graph.\n",
    "Since we are interested by the success of a game in this part, we will only use the games that have more than 200000 owners."
   ]
  },
  {
   "cell_type": "code",
   "execution_count": 80,
   "metadata": {},
   "outputs": [],
   "source": [
    "import numpy as np\n",
    "from scipy.spatial.distance import pdist, squareform\n",
    "import matplotlib.pyplot as plt\n",
    "from mpl_toolkits.mplot3d import Axes3D\n",
    "import networkx as nx\n",
    "\n",
    "# third-party imports\n",
    "import numpy as np\n",
    "import pandas as pd\n",
    "import matplotlib.pyplot as plt\n",
    "\n",
    "# customisations\n",
    "pd.set_option(\"max_columns\", 100)\n",
    "plt.style.use('default')\n",
    "plt.rcdefaults()\n",
    "\n",
    "%matplotlib inline"
   ]
  },
  {
   "cell_type": "code",
   "execution_count": 81,
   "metadata": {},
   "outputs": [
    {
     "data": {
      "text/html": [
       "<div>\n",
       "<style scoped>\n",
       "    .dataframe tbody tr th:only-of-type {\n",
       "        vertical-align: middle;\n",
       "    }\n",
       "\n",
       "    .dataframe tbody tr th {\n",
       "        vertical-align: top;\n",
       "    }\n",
       "\n",
       "    .dataframe thead th {\n",
       "        text-align: right;\n",
       "    }\n",
       "</style>\n",
       "<table border=\"1\" class=\"dataframe\">\n",
       "  <thead>\n",
       "    <tr style=\"text-align: right;\">\n",
       "      <th></th>\n",
       "      <th>appid</th>\n",
       "      <th>name</th>\n",
       "      <th>release_date</th>\n",
       "      <th>developer</th>\n",
       "      <th>publisher</th>\n",
       "      <th>required_age</th>\n",
       "      <th>genres</th>\n",
       "      <th>achievements</th>\n",
       "      <th>positive_ratings</th>\n",
       "      <th>negative_ratings</th>\n",
       "      <th>average_playtime</th>\n",
       "      <th>median_playtime</th>\n",
       "      <th>owners</th>\n",
       "      <th>price</th>\n",
       "      <th>economic_success</th>\n",
       "      <th>total_ratings</th>\n",
       "      <th>rating_ratio</th>\n",
       "      <th>rating</th>\n",
       "      <th>release_year</th>\n",
       "      <th>multi_player</th>\n",
       "      <th>single_player</th>\n",
       "      <th>action</th>\n",
       "      <th>adventure</th>\n",
       "      <th>casual</th>\n",
       "      <th>indie</th>\n",
       "      <th>massively_multiplayer</th>\n",
       "      <th>rpg</th>\n",
       "      <th>racing</th>\n",
       "      <th>simulation</th>\n",
       "      <th>sports</th>\n",
       "      <th>strategy</th>\n",
       "      <th>type</th>\n",
       "    </tr>\n",
       "  </thead>\n",
       "  <tbody>\n",
       "    <tr>\n",
       "      <td>0</td>\n",
       "      <td>10</td>\n",
       "      <td>Counter-Strike</td>\n",
       "      <td>2000-11-01</td>\n",
       "      <td>Valve</td>\n",
       "      <td>Valve</td>\n",
       "      <td>0</td>\n",
       "      <td>Action</td>\n",
       "      <td>0</td>\n",
       "      <td>144225</td>\n",
       "      <td>3752</td>\n",
       "      <td>10480</td>\n",
       "      <td>149</td>\n",
       "      <td>2000000</td>\n",
       "      <td>10.5</td>\n",
       "      <td>36750000.0</td>\n",
       "      <td>147977</td>\n",
       "      <td>0.974645</td>\n",
       "      <td>96.111053</td>\n",
       "      <td>2000</td>\n",
       "      <td>1</td>\n",
       "      <td>0</td>\n",
       "      <td>1</td>\n",
       "      <td>0</td>\n",
       "      <td>0</td>\n",
       "      <td>0</td>\n",
       "      <td>0</td>\n",
       "      <td>0</td>\n",
       "      <td>0</td>\n",
       "      <td>0</td>\n",
       "      <td>0</td>\n",
       "      <td>0</td>\n",
       "      <td>Paid</td>\n",
       "    </tr>\n",
       "    <tr>\n",
       "      <td>1</td>\n",
       "      <td>20</td>\n",
       "      <td>Team Fortress Classic</td>\n",
       "      <td>1999-04-01</td>\n",
       "      <td>Valve</td>\n",
       "      <td>Valve</td>\n",
       "      <td>0</td>\n",
       "      <td>Action</td>\n",
       "      <td>0</td>\n",
       "      <td>3805</td>\n",
       "      <td>711</td>\n",
       "      <td>1342</td>\n",
       "      <td>24</td>\n",
       "      <td>2000000</td>\n",
       "      <td>5.0</td>\n",
       "      <td>17500000.0</td>\n",
       "      <td>4516</td>\n",
       "      <td>0.842560</td>\n",
       "      <td>80.911325</td>\n",
       "      <td>1999</td>\n",
       "      <td>1</td>\n",
       "      <td>0</td>\n",
       "      <td>1</td>\n",
       "      <td>0</td>\n",
       "      <td>0</td>\n",
       "      <td>0</td>\n",
       "      <td>0</td>\n",
       "      <td>0</td>\n",
       "      <td>0</td>\n",
       "      <td>0</td>\n",
       "      <td>0</td>\n",
       "      <td>0</td>\n",
       "      <td>Paid</td>\n",
       "    </tr>\n",
       "    <tr>\n",
       "      <td>2</td>\n",
       "      <td>30</td>\n",
       "      <td>Day of Defeat</td>\n",
       "      <td>2003-05-01</td>\n",
       "      <td>Valve</td>\n",
       "      <td>Valve</td>\n",
       "      <td>0</td>\n",
       "      <td>Action</td>\n",
       "      <td>0</td>\n",
       "      <td>3906</td>\n",
       "      <td>467</td>\n",
       "      <td>1501</td>\n",
       "      <td>29</td>\n",
       "      <td>5000000</td>\n",
       "      <td>5.0</td>\n",
       "      <td>37500000.0</td>\n",
       "      <td>4373</td>\n",
       "      <td>0.893208</td>\n",
       "      <td>85.740618</td>\n",
       "      <td>2003</td>\n",
       "      <td>1</td>\n",
       "      <td>0</td>\n",
       "      <td>1</td>\n",
       "      <td>0</td>\n",
       "      <td>0</td>\n",
       "      <td>0</td>\n",
       "      <td>0</td>\n",
       "      <td>0</td>\n",
       "      <td>0</td>\n",
       "      <td>0</td>\n",
       "      <td>0</td>\n",
       "      <td>0</td>\n",
       "      <td>Paid</td>\n",
       "    </tr>\n",
       "    <tr>\n",
       "      <td>3</td>\n",
       "      <td>50</td>\n",
       "      <td>Half-Life: Opposing Force</td>\n",
       "      <td>1999-11-01</td>\n",
       "      <td>Gearbox Software</td>\n",
       "      <td>Valve</td>\n",
       "      <td>0</td>\n",
       "      <td>Action</td>\n",
       "      <td>0</td>\n",
       "      <td>6520</td>\n",
       "      <td>358</td>\n",
       "      <td>2180</td>\n",
       "      <td>181</td>\n",
       "      <td>1000000</td>\n",
       "      <td>5.0</td>\n",
       "      <td>7500000.0</td>\n",
       "      <td>6878</td>\n",
       "      <td>0.947950</td>\n",
       "      <td>91.479528</td>\n",
       "      <td>1999</td>\n",
       "      <td>1</td>\n",
       "      <td>1</td>\n",
       "      <td>1</td>\n",
       "      <td>0</td>\n",
       "      <td>0</td>\n",
       "      <td>0</td>\n",
       "      <td>0</td>\n",
       "      <td>0</td>\n",
       "      <td>0</td>\n",
       "      <td>0</td>\n",
       "      <td>0</td>\n",
       "      <td>0</td>\n",
       "      <td>Paid</td>\n",
       "    </tr>\n",
       "    <tr>\n",
       "      <td>4</td>\n",
       "      <td>70</td>\n",
       "      <td>Half-Life</td>\n",
       "      <td>1998-11-08</td>\n",
       "      <td>Valve</td>\n",
       "      <td>Valve</td>\n",
       "      <td>0</td>\n",
       "      <td>Action</td>\n",
       "      <td>0</td>\n",
       "      <td>36055</td>\n",
       "      <td>1308</td>\n",
       "      <td>1396</td>\n",
       "      <td>197</td>\n",
       "      <td>2000000</td>\n",
       "      <td>10.5</td>\n",
       "      <td>36750000.0</td>\n",
       "      <td>37363</td>\n",
       "      <td>0.964992</td>\n",
       "      <td>94.471303</td>\n",
       "      <td>1998</td>\n",
       "      <td>1</td>\n",
       "      <td>1</td>\n",
       "      <td>1</td>\n",
       "      <td>0</td>\n",
       "      <td>0</td>\n",
       "      <td>0</td>\n",
       "      <td>0</td>\n",
       "      <td>0</td>\n",
       "      <td>0</td>\n",
       "      <td>0</td>\n",
       "      <td>0</td>\n",
       "      <td>0</td>\n",
       "      <td>Paid</td>\n",
       "    </tr>\n",
       "  </tbody>\n",
       "</table>\n",
       "</div>"
      ],
      "text/plain": [
       "   appid                       name release_date         developer publisher  \\\n",
       "0     10             Counter-Strike   2000-11-01             Valve     Valve   \n",
       "1     20      Team Fortress Classic   1999-04-01             Valve     Valve   \n",
       "2     30              Day of Defeat   2003-05-01             Valve     Valve   \n",
       "3     50  Half-Life: Opposing Force   1999-11-01  Gearbox Software     Valve   \n",
       "4     70                  Half-Life   1998-11-08             Valve     Valve   \n",
       "\n",
       "   required_age  genres  achievements  positive_ratings  negative_ratings  \\\n",
       "0             0  Action             0            144225              3752   \n",
       "1             0  Action             0              3805               711   \n",
       "2             0  Action             0              3906               467   \n",
       "3             0  Action             0              6520               358   \n",
       "4             0  Action             0             36055              1308   \n",
       "\n",
       "   average_playtime  median_playtime   owners  price  economic_success  \\\n",
       "0             10480              149  2000000   10.5        36750000.0   \n",
       "1              1342               24  2000000    5.0        17500000.0   \n",
       "2              1501               29  5000000    5.0        37500000.0   \n",
       "3              2180              181  1000000    5.0         7500000.0   \n",
       "4              1396              197  2000000   10.5        36750000.0   \n",
       "\n",
       "   total_ratings  rating_ratio     rating  release_year  multi_player  \\\n",
       "0         147977      0.974645  96.111053          2000             1   \n",
       "1           4516      0.842560  80.911325          1999             1   \n",
       "2           4373      0.893208  85.740618          2003             1   \n",
       "3           6878      0.947950  91.479528          1999             1   \n",
       "4          37363      0.964992  94.471303          1998             1   \n",
       "\n",
       "   single_player  action  adventure  casual  indie  massively_multiplayer  \\\n",
       "0              0       1          0       0      0                      0   \n",
       "1              0       1          0       0      0                      0   \n",
       "2              0       1          0       0      0                      0   \n",
       "3              1       1          0       0      0                      0   \n",
       "4              1       1          0       0      0                      0   \n",
       "\n",
       "   rpg  racing  simulation  sports  strategy  type  \n",
       "0    0       0           0       0         0  Paid  \n",
       "1    0       0           0       0         0  Paid  \n",
       "2    0       0           0       0         0  Paid  \n",
       "3    0       0           0       0         0  Paid  \n",
       "4    0       0           0       0         0  Paid  "
      ]
     },
     "execution_count": 81,
     "metadata": {},
     "output_type": "execute_result"
    }
   ],
   "source": [
    "df = pd.read_csv('./data/steam_ready.csv')\n",
    "\n",
    "data = df[df.owners > 200000].copy()\n",
    "\n",
    "data = data.reset_index(drop=True)\n",
    "data.head()"
   ]
  },
  {
   "cell_type": "code",
   "execution_count": null,
   "metadata": {},
   "outputs": [],
   "source": []
  },
  {
   "cell_type": "markdown",
   "metadata": {},
   "source": [
    "We now have a subset of 1175 games that we can use ton compute our graphs. This may seem like it will be unsignificant but is a good start to identify what are the best network parameters to use to vizualize what is a good game all about."
   ]
  },
  {
   "cell_type": "code",
   "execution_count": 35,
   "metadata": {},
   "outputs": [
    {
     "name": "stdout",
     "output_type": "stream",
     "text": [
      "1175\n"
     ]
    }
   ],
   "source": [
    "num_nodes = len(data)\n",
    "print(num_nodes)"
   ]
  },
  {
   "cell_type": "markdown",
   "metadata": {},
   "source": [
    "Now, we can build our adjacency matrix based on the ratings provided by steam. and the rating ratio."
   ]
  },
  {
   "cell_type": "markdown",
   "metadata": {},
   "source": [
    "# Graph 1 : Paid and Free"
   ]
  },
  {
   "cell_type": "markdown",
   "metadata": {},
   "source": [
    "In this part, we wll be creating an adjacency matrix of 1 and 0 depending on wether or not a game is free or not. For this, we will have a weight of 1 if two games are both free or paid."
   ]
  },
  {
   "cell_type": "code",
   "execution_count": 42,
   "metadata": {},
   "outputs": [],
   "source": [
    "game_type1 = np.zeros((num_nodes,num_nodes))\n",
    "\n",
    "free_games = np.array(data['type']=='Free')*1\n",
    "paid_games = np.array(data['type']=='Paid')*1\n",
    "\n",
    "for row in range(num_nodes):\n",
    "    for row2 in range(num_nodes):\n",
    "        if free_games[row] == free_games[row2]:\n",
    "            game_type1[row, row2] = 1\n",
    "        else:\n",
    "            game_type1[row, row2] = 0"
   ]
  },
  {
   "cell_type": "markdown",
   "metadata": {},
   "source": [
    "This way of creating a graph will create 2 clusters (one for the paid and free games). However, we can realize on the graph below that the adjacency matrix is really filled which shows that each cluster will be fulls connected."
   ]
  },
  {
   "cell_type": "code",
   "execution_count": 60,
   "metadata": {},
   "outputs": [
    {
     "data": {
      "text/plain": [
       "<matplotlib.image.AxesImage at 0x12704c4e0>"
      ]
     },
     "execution_count": 60,
     "metadata": {},
     "output_type": "execute_result"
    },
    {
     "data": {
      "image/png": "[encoded data removed]",
      "text/plain": [
       "<Figure size 432x288 with 1 Axes>"
      ]
     },
     "metadata": {
      "needs_background": "light"
     },
     "output_type": "display_data"
    }
   ],
   "source": [
    "game_type1 = game_type2 - np.eye(num_nodes)\n",
    "\n",
    "plt.spy(game_type1)"
   ]
  },
  {
   "cell_type": "code",
   "execution_count": 61,
   "metadata": {},
   "outputs": [],
   "source": [
    "graph1 = nx.from_numpy_array(game_type)\n",
    "nodes1 = data[['average_playtime', 'rating', 'owners', 'economic_success']]#data[['name', 'developer','genres','average_playtime', 'rating', 'owners', 'economic_success']]"
   ]
  },
  {
   "cell_type": "code",
   "execution_count": 45,
   "metadata": {},
   "outputs": [],
   "source": [
    "node_props = nodes1.to_dict()\n",
    "for key in node_props:\n",
    "    # print(key, node_props[key])\n",
    "    nx.set_node_attributes(graph1, node_props[key], key)"
   ]
  },
  {
   "cell_type": "code",
   "execution_count": 46,
   "metadata": {},
   "outputs": [
    {
     "data": {
      "text/plain": [
       "{'average_playtime': 1342,\n",
       " 'rating': 80.91132452635408,\n",
       " 'owners': 2000000,\n",
       " 'economic_success': 17500000.0}"
      ]
     },
     "execution_count": 46,
     "metadata": {},
     "output_type": "execute_result"
    }
   ],
   "source": [
    "graph1.nodes[1]"
   ]
  },
  {
   "cell_type": "code",
   "execution_count": 41,
   "metadata": {},
   "outputs": [
    {
     "data": {
      "image/png": "[encoded data removed]",
      "text/plain": [
       "<Figure size 432x288 with 1 Axes>"
      ]
     },
     "metadata": {},
     "output_type": "display_data"
    }
   ],
   "source": [
    "nx.draw_spectral(graph1)"
   ]
  },
  {
   "cell_type": "code",
   "execution_count": 34,
   "metadata": {},
   "outputs": [
    {
     "data": {
      "image/png": "[encoded data removed]",
      "text/plain": [
       "<Figure size 432x288 with 1 Axes>"
      ]
     },
     "metadata": {},
     "output_type": "display_data"
    }
   ],
   "source": [
    "nx.draw_spring(graph1)"
   ]
  },
  {
   "cell_type": "code",
   "execution_count": 33,
   "metadata": {},
   "outputs": [],
   "source": [
    "nx.write_gexf(graph1, 'graphs/paid_vs_free.gexf')"
   ]
  },
  {
   "cell_type": "markdown",
   "metadata": {},
   "source": [
    "# Graph 2 : Paid and Free and owners"
   ]
  },
  {
   "cell_type": "markdown",
   "metadata": {},
   "source": [
    "- We wll be creating an adjacency matrix of 1 and 0 depending on wether or not a game is free or not. For this, we will have a weight of 1 if two games are both free or paid. \n",
    "- However, we will also cluster the games depending on their number of owners. This way, we will obtain some giant clusters for each group of paid and free games and inner class cluster depending on the number of owners per game. \n",
    "- The idea here is to be able to clearyl see if their is a the influence of a genre (for exemple) depending on the number of owners for each type of game."
   ]
  },
  {
   "cell_type": "code",
   "execution_count": 52,
   "metadata": {},
   "outputs": [],
   "source": [
    "game_type2 = np.zeros((num_nodes,num_nodes))\n",
    "\n",
    "free_games = np.array(data['type']=='Free')*1\n",
    "paid_games = np.array(data['type']=='Paid')*1\n",
    "\n",
    "for row in range(num_nodes):\n",
    "    for row2 in range(num_nodes):\n",
    "        if free_games[row] == free_games[row2] and (data.loc[row,'owners'] == data.loc[row2,'owners']):\n",
    "            game_type2[row, row2] = 1\n",
    "        else:\n",
    "            game_type2[row, row2] = 0"
   ]
  },
  {
   "cell_type": "code",
   "execution_count": 53,
   "metadata": {},
   "outputs": [
    {
     "data": {
      "text/plain": [
       "<matplotlib.image.AxesImage at 0x12bc42048>"
      ]
     },
     "execution_count": 53,
     "metadata": {},
     "output_type": "execute_result"
    },
    {
     "data": {
      "image/png": "[encoded data removed]",
      "text/plain": [
       "<Figure size 432x288 with 1 Axes>"
      ]
     },
     "metadata": {
      "needs_background": "light"
     },
     "output_type": "display_data"
    }
   ],
   "source": [
    "game_type2 = game_type2 - np.eye(num_nodes)\n",
    "\n",
    "plt.spy(game_type2)"
   ]
  },
  {
   "cell_type": "code",
   "execution_count": 54,
   "metadata": {},
   "outputs": [],
   "source": [
    "graph2 = nx.from_numpy_array(game_type)\n",
    "nodes2 = data[['average_playtime', 'rating', 'publisher', 'owners', 'economic_success']]#data[['name', 'developer','genres','average_playtime', 'rating', 'owners', 'economic_success']]"
   ]
  },
  {
   "cell_type": "code",
   "execution_count": 55,
   "metadata": {},
   "outputs": [],
   "source": [
    "node_props = nodes2.to_dict()\n",
    "for key in node_props:\n",
    "    # print(key, node_props[key])\n",
    "    nx.set_node_attributes(graph2, node_props[key], key)"
   ]
  },
  {
   "cell_type": "code",
   "execution_count": 56,
   "metadata": {},
   "outputs": [
    {
     "data": {
      "text/plain": [
       "{'average_playtime': 1342,\n",
       " 'rating': 80.91132452635408,\n",
       " 'owners': 2000000,\n",
       " 'economic_success': 17500000.0}"
      ]
     },
     "execution_count": 56,
     "metadata": {},
     "output_type": "execute_result"
    }
   ],
   "source": [
    "graph2.nodes[1]"
   ]
  },
  {
   "cell_type": "code",
   "execution_count": 57,
   "metadata": {},
   "outputs": [
    {
     "data": {
      "image/png": "[encoded data removed]",
      "text/plain": [
       "<Figure size 432x288 with 1 Axes>"
      ]
     },
     "metadata": {},
     "output_type": "display_data"
    }
   ],
   "source": [
    "nx.draw_spectral(graph2)"
   ]
  },
  {
   "cell_type": "code",
   "execution_count": 58,
   "metadata": {},
   "outputs": [
    {
     "data": {
      "image/png": "[encoded data removed]",
      "text/plain": [
       "<Figure size 432x288 with 1 Axes>"
      ]
     },
     "metadata": {},
     "output_type": "display_data"
    }
   ],
   "source": [
    "nx.draw_spring(graph2)"
   ]
  },
  {
   "cell_type": "code",
   "execution_count": 59,
   "metadata": {},
   "outputs": [],
   "source": [
    "nx.write_gexf(graph2, 'graphs/paid_vs_free_owners.gexf')"
   ]
  },
  {
   "cell_type": "code",
   "execution_count": null,
   "metadata": {},
   "outputs": [],
   "source": []
  },
  {
   "cell_type": "markdown",
   "metadata": {},
   "source": [
    "# Graph 3 : Type of games"
   ]
  },
  {
   "cell_type": "markdown",
   "metadata": {},
   "source": [
    "- In here, we will be connecting each game depending on its category (example : action, fps, etc...). There will be a value a 1 between each game that share the same category."
   ]
  },
  {
   "cell_type": "code",
   "execution_count": 65,
   "metadata": {},
   "outputs": [],
   "source": [
    "game_type3 = np.zeros((num_nodes,num_nodes))\n",
    "\n",
    "\n",
    "categories = ['single_player', 'multi_player','adventure', 'action', 'casual', 'indie', 'massively_multiplayer', 'rpg', 'racing', 'simulation', 'sports','strategy' ]\n",
    "\n",
    "for category in categories:\n",
    "    for row in range(num_nodes):\n",
    "        for row2 in range(num_nodes):\n",
    "            if (data.loc[row,category] == data.loc[row2,category]):\n",
    "                game_type3[row, row2] = 1"
   ]
  },
  {
   "cell_type": "code",
   "execution_count": 66,
   "metadata": {},
   "outputs": [
    {
     "data": {
      "text/plain": [
       "<matplotlib.image.AxesImage at 0x127170400>"
      ]
     },
     "execution_count": 66,
     "metadata": {},
     "output_type": "execute_result"
    },
    {
     "data": {
      "image/png": "[encoded data removed]",
      "text/plain": [
       "<Figure size 432x288 with 1 Axes>"
      ]
     },
     "metadata": {
      "needs_background": "light"
     },
     "output_type": "display_data"
    }
   ],
   "source": [
    "game_type3 = game_type3 - np.eye(num_nodes)\n",
    "\n",
    "plt.spy(game_type3)"
   ]
  },
  {
   "cell_type": "markdown",
   "metadata": {},
   "source": [
    "We realized here that the graph is really similar to a fully connected one in this case. This makes sense beacuse games have many different categories andour condition for linking two games between each other is to have at least one category in common. "
   ]
  },
  {
   "cell_type": "markdown",
   "metadata": {},
   "source": [
    "To solve this problem, we defined a super category which is to know wehter a game is single player and/or multiplayer. We will first segregate our games between those two catgories to see how our adjacency matrix changed."
   ]
  },
  {
   "cell_type": "code",
   "execution_count": 67,
   "metadata": {},
   "outputs": [],
   "source": [
    "game_type3 = np.zeros((num_nodes,num_nodes))\n",
    "\n",
    "super_categories = ['single_player', 'multi_player' ]\n",
    "\n",
    "for category in super_categories:\n",
    "    for row in range(num_nodes):\n",
    "        for row2 in range(num_nodes):\n",
    "            if (data.loc[row,category] == data.loc[row2,category]):\n",
    "                game_type3[row, row2] = 1"
   ]
  },
  {
   "cell_type": "code",
   "execution_count": 69,
   "metadata": {},
   "outputs": [
    {
     "data": {
      "text/plain": [
       "<matplotlib.image.AxesImage at 0x126aa1f28>"
      ]
     },
     "execution_count": 69,
     "metadata": {},
     "output_type": "execute_result"
    },
    {
     "data": {
      "image/png": "[encoded data removed]",
      "text/plain": [
       "<Figure size 432x288 with 1 Axes>"
      ]
     },
     "metadata": {
      "needs_background": "light"
     },
     "output_type": "display_data"
    }
   ],
   "source": [
    "game_type3 = game_type3 - np.eye(num_nodes)\n",
    "\n",
    "plt.spy(game_type3)"
   ]
  },
  {
   "cell_type": "markdown",
   "metadata": {},
   "source": [
    "This is a little bit better. However, there is still a lot of connexions between the nodes. Lets use both the super category and the ctegories this time !!"
   ]
  },
  {
   "cell_type": "code",
   "execution_count": 70,
   "metadata": {},
   "outputs": [],
   "source": [
    "game_type3 = np.zeros((num_nodes,num_nodes))\n",
    "\n",
    "super_categories = ['single_player', 'multi_player' ]\n",
    "categories = ['adventure', 'action', 'casual', 'indie', 'massively_multiplayer', 'rpg', 'racing', 'simulation', 'sports','strategy' ]\n",
    "\n",
    "for category in super_categories:\n",
    "    for row in range(num_nodes):\n",
    "        for row2 in range(num_nodes):\n",
    "            if (data.loc[row,category] == data.loc[row2,category]) and (data.loc[row,'single_player'] == data.loc[row2,'single_player'] or data.loc[row,'multi_player'] == data.loc[row2,'multi_player']):\n",
    "                game_type3[row, row2] = 1"
   ]
  },
  {
   "cell_type": "code",
   "execution_count": 71,
   "metadata": {},
   "outputs": [
    {
     "data": {
      "text/plain": [
       "<matplotlib.image.AxesImage at 0x126a7ada0>"
      ]
     },
     "execution_count": 71,
     "metadata": {},
     "output_type": "execute_result"
    },
    {
     "data": {
      "image/png": "[encoded data removed]",
      "text/plain": [
       "<Figure size 432x288 with 1 Axes>"
      ]
     },
     "metadata": {
      "needs_background": "light"
     },
     "output_type": "display_data"
    }
   ],
   "source": [
    "game_type3 = game_type3 - np.eye(num_nodes)\n",
    "\n",
    "plt.spy(game_type3)"
   ]
  },
  {
   "cell_type": "code",
   "execution_count": 72,
   "metadata": {},
   "outputs": [],
   "source": [
    "graph3 = nx.from_numpy_array(game_type)\n",
    "nodes3 = data[['average_playtime', 'rating', 'publisher', 'owners', 'economic_success']]#data[['name', 'developer','genres','average_playtime', 'rating', 'owners', 'economic_success']]"
   ]
  },
  {
   "cell_type": "code",
   "execution_count": 74,
   "metadata": {},
   "outputs": [],
   "source": [
    "node_props = nodes3.to_dict()\n",
    "for key in node_props:\n",
    "    # print(key, node_props[key])\n",
    "    nx.set_node_attributes(graph3, node_props[key], key)"
   ]
  },
  {
   "cell_type": "code",
   "execution_count": 75,
   "metadata": {},
   "outputs": [
    {
     "data": {
      "text/plain": [
       "{'average_playtime': 1342,\n",
       " 'rating': 80.91132452635408,\n",
       " 'publisher': 'Valve',\n",
       " 'owners': 2000000,\n",
       " 'economic_success': 17500000.0}"
      ]
     },
     "execution_count": 75,
     "metadata": {},
     "output_type": "execute_result"
    }
   ],
   "source": [
    "graph3.nodes[1]"
   ]
  },
  {
   "cell_type": "code",
   "execution_count": 76,
   "metadata": {},
   "outputs": [
    {
     "data": {
      "image/png": "[encoded data removed]",
      "text/plain": [
       "<Figure size 432x288 with 1 Axes>"
      ]
     },
     "metadata": {},
     "output_type": "display_data"
    }
   ],
   "source": [
    "nx.draw_spectral(graph3)"
   ]
  },
  {
   "cell_type": "code",
   "execution_count": 78,
   "metadata": {},
   "outputs": [
    {
     "data": {
      "image/png": "[encoded data removed]",
      "text/plain": [
       "<Figure size 432x288 with 1 Axes>"
      ]
     },
     "metadata": {},
     "output_type": "display_data"
    }
   ],
   "source": [
    "nx.draw_spring(graph3)"
   ]
  },
  {
   "cell_type": "code",
   "execution_count": 79,
   "metadata": {},
   "outputs": [],
   "source": [
    "nx.write_gexf(graph3, 'graphs/categories.gexf')"
   ]
  },
  {
   "cell_type": "code",
   "execution_count": null,
   "metadata": {},
   "outputs": [],
   "source": []
  },
  {
   "cell_type": "markdown",
   "metadata": {},
   "source": [
    "# Old stuff"
   ]
  },
  {
   "cell_type": "code",
   "execution_count": 48,
   "metadata": {},
   "outputs": [],
   "source": [
    "def epsilon_similarity_graph(X: np.ndarray, sigma=1, epsilon=0):\n",
    "    \"\"\" X (n x d): coordinates of the n data points in R^d.\n",
    "        sigma (float): width of the kernel\n",
    "        epsilon (float): threshold\n",
    "        Return:\n",
    "        adjacency (n x n ndarray): adjacency matrix of the graph.\n",
    "    \"\"\"\n",
    "    sq_dist = pdist(X)\n",
    "    pairwise_dists = squareform(sq_dist)**2\n",
    "    adjacency = np.exp( -pairwise_dists / sigma**2 / 2) - np.identity(len(pairwise_dists))\n",
    "    threshold = adjacency<epsilon\n",
    "    \n",
    "    adjacency[threshold]=0\n",
    "    \n",
    "    return adjacency"
   ]
  },
  {
   "cell_type": "code",
   "execution_count": 49,
   "metadata": {},
   "outputs": [],
   "source": [
    "X = data['rating']"
   ]
  },
  {
   "cell_type": "code",
   "execution_count": 50,
   "metadata": {},
   "outputs": [],
   "source": [
    "Y= np.array([X,X]).T"
   ]
  },
  {
   "cell_type": "code",
   "execution_count": 51,
   "metadata": {},
   "outputs": [
    {
     "data": {
      "text/plain": [
       "array([[96.11105296, 96.11105296],\n",
       "       [80.91132453, 80.91132453],\n",
       "       [85.74061791, 85.74061791],\n",
       "       ...,\n",
       "       [90.77948182, 90.77948182],\n",
       "       [64.46466949, 64.46466949],\n",
       "       [42.97685959, 42.97685959]])"
      ]
     },
     "execution_count": 51,
     "metadata": {},
     "output_type": "execute_result"
    }
   ],
   "source": [
    "Y"
   ]
  },
  {
   "cell_type": "code",
   "execution_count": null,
   "metadata": {},
   "outputs": [],
   "source": [
    "sigma = np.std(pdist(Y))\n",
    "print(f'The value of sigma is {sigma}')"
   ]
  },
  {
   "cell_type": "code",
   "execution_count": null,
   "metadata": {},
   "outputs": [],
   "source": [
    "adjacency = epsilon_similarity_graph(X=Y, sigma=sigma, epsilon=0)\n",
    "plt.hist(adjacency.flatten())"
   ]
  },
  {
   "cell_type": "code",
   "execution_count": null,
   "metadata": {},
   "outputs": [],
   "source": [
    "epsilon = 0.4\n",
    "adjacency = epsilon_similarity_graph(Y,sigma,epsilon)\n",
    "plt.spy(adjacency)\n",
    "plt.show()"
   ]
  },
  {
   "cell_type": "code",
   "execution_count": null,
   "metadata": {},
   "outputs": [],
   "source": [
    "graph = nx.from_numpy_array(adjacency)"
   ]
  },
  {
   "cell_type": "code",
   "execution_count": null,
   "metadata": {},
   "outputs": [],
   "source": [
    "nodes = data[['name', 'developer','genres','average_playtime', 'type']]"
   ]
  },
  {
   "cell_type": "code",
   "execution_count": null,
   "metadata": {},
   "outputs": [],
   "source": [
    "node_props = nodes.to_dict()\n",
    "nodes"
   ]
  },
  {
   "cell_type": "code",
   "execution_count": null,
   "metadata": {},
   "outputs": [],
   "source": [
    "for key in node_props:\n",
    "    # print(key, node_props[key])\n",
    "    nx.set_node_attributes(graph, node_props[key], key)"
   ]
  },
  {
   "cell_type": "code",
   "execution_count": null,
   "metadata": {
    "jupyter": {
     "source_hidden": true
    }
   },
   "outputs": [],
   "source": [
    "nx.write_gexf(graph, 'first.gexf')"
   ]
  },
  {
   "cell_type": "code",
   "execution_count": null,
   "metadata": {},
   "outputs": [],
   "source": []
  }
 ],
 "metadata": {
  "kernelspec": {
   "display_name": "Python 3",
   "language": "python",
   "name": "python3"
  },
  "language_info": {
   "codemirror_mode": {
    "name": "ipython",
    "version": 3
   },
   "file_extension": ".py",
   "mimetype": "text/x-python",
   "name": "python",
   "nbconvert_exporter": "python",
   "pygments_lexer": "ipython3",
   "version": "3.7.2"
  }
 },
 "nbformat": 4,
 "nbformat_minor": 4
}
