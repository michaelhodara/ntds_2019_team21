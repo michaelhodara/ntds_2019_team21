{
 "cells": [
  {
   "cell_type": "code",
   "execution_count": 2,
   "metadata": {},
   "outputs": [],
   "source": [
    "import numpy as np\n",
    "import pandas as pd\n",
    "import os\n",
    "from matplotlib import pyplot as plt\n",
    "from scipy.spatial.distance import pdist, squareform\n",
    "\n",
    "%matplotlib inline"
   ]
  },
  {
   "cell_type": "code",
   "execution_count": 3,
   "metadata": {},
   "outputs": [],
   "source": [
    "pd_data =pd.read_csv(os.getcwd() + '/processed_data.csv')"
   ]
  },
  {
   "cell_type": "code",
   "execution_count": 4,
   "metadata": {},
   "outputs": [],
   "source": [
    "pd_data = pd_data.drop(columns=['release_date', 'steam_appid','platforms', 'categories','min_RAM','positive_ratings','negative_ratings','steamspy_tags', 'english', 'pc_requirements', 'mac_requirements','achievements','linux_requirements', 'minimum', 'recommended'])\n",
    "pd_data.columns\n",
    "pd_data = pd_data.dropna()"
   ]
  },
  {
   "cell_type": "markdown",
   "metadata": {},
   "source": [
    "## Setting the threshold "
   ]
  },
  {
   "cell_type": "code",
   "execution_count": 5,
   "metadata": {},
   "outputs": [
    {
     "data": {
      "text/plain": [
       "Index(['Unnamed: 0', 'name', 'developer', 'publisher', 'required_age',\n",
       "       'genres', 'average_playtime', 'median_playtime', 'owners', 'price',\n",
       "       'grade', 'month', 'year', 'num_sytems', 'num_systems'],\n",
       "      dtype='object')"
      ]
     },
     "execution_count": 5,
     "metadata": {},
     "output_type": "execute_result"
    }
   ],
   "source": [
    "thresh = 500\n",
    "pd_data.columns.unique()"
   ]
  },
  {
   "cell_type": "code",
   "execution_count": 6,
   "metadata": {},
   "outputs": [
    {
     "data": {
      "text/plain": [
       "array([7.1900e+00, 3.9900e+00, 0.0000e+00, 5.7900e+00, 5.9900e+00,\n",
       "       1.4990e+01, 2.2990e+01, 6.9900e+00, 4.9900e+00, 1.0990e+01,\n",
       "       2.9900e+00, 4.2900e+00, 1.2990e+01, 2.4900e+00, 9.9900e+00,\n",
       "       1.9900e+00, 1.5990e+01, 3.4900e+00, 2.4990e+01, 8.5900e+00,\n",
       "       7.9900e+00, 4.4900e+00, 4.2500e+00, 5.5900e+00, 2.5990e+01,\n",
       "       8.9900e+00, 4.7900e+00, 1.3990e+01, 8.2900e+00, 9.2900e+00,\n",
       "       1.9990e+01, 1.7900e+00, 1.6990e+01, 8.6900e+00, 7.4900e+00,\n",
       "       7.9000e-01, 1.6900e+00, 1.5490e+01, 1.4900e+00, 1.7990e+01,\n",
       "       1.1990e+01, 3.5960e+01, 6.4900e+00, 1.5900e+00, 3.4990e+01,\n",
       "       9.9000e-01, 5.1900e+00, 2.0900e+00, 2.9990e+01, 1.9980e+01,\n",
       "       2.7900e+00, 2.8900e+00, 3.4950e+01, 1.2490e+01, 1.1390e+01,\n",
       "       4.3900e+00, 1.8990e+01, 9.5990e+01, 1.0590e+01, 6.1900e+00,\n",
       "       3.9990e+01, 2.6990e+01, 3.0990e+01, 6.0000e+00, 2.3990e+01,\n",
       "       5.2990e+01, 3.3990e+01, 1.2390e+01, 8.4900e+00, 2.3790e+01,\n",
       "       1.9490e+01, 3.8990e+01, 2.3390e+01, 6.9500e+00, 1.1490e+01,\n",
       "       1.8740e+01, 2.0990e+01, 6.0990e+01, 5.4900e+00, 6.9990e+01,\n",
       "       1.3490e+01, 7.8990e+01, 1.7980e+01, 2.7790e+01, 2.7110e+01,\n",
       "       7.5990e+01, 4.4980e+01, 1.1690e+01, 2.2900e+00, 5.4990e+01,\n",
       "       4.4990e+01, 2.7000e+01, 4.6500e+00, 1.4490e+01, 1.3500e+01,\n",
       "       1.3590e+01, 1.6300e+01, 1.1000e+01, 4.9990e+01, 7.5000e+00,\n",
       "       3.2900e+00, 1.0290e+01, 1.7490e+01, 1.3000e+01, 4.5000e+00,\n",
       "       2.7990e+01, 8.8900e+00, 4.5900e+00, 6.6900e+00, 3.1990e+01,\n",
       "       3.2990e+01, 3.6990e+01, 9.0000e+00, 3.1900e+00, 5.6900e+00,\n",
       "       1.5000e+00, 4.6490e+01, 2.2490e+01, 1.0000e+00, 5.5990e+01,\n",
       "       3.5000e+00, 4.1990e+01, 2.5790e+01, 1.3370e+01, 7.0000e+00,\n",
       "       3.9950e+01, 6.3500e+00, 6.1500e+00, 1.0000e+01, 3.2000e-01,\n",
       "       3.2500e+01, 2.5900e+00, 7.5000e-01, 4.5000e+01, 5.9000e-01,\n",
       "       1.9900e+01, 4.2400e+00, 3.2300e+00, 1.1240e+01, 4.9000e-01,\n",
       "       5.8000e+00, 2.7100e+01, 2.1000e+01, 2.2800e+00, 9.0000e-01,\n",
       "       9.8990e+01, 6.2900e+00, 1.5499e+02, 6.3900e+00, 4.1200e+00,\n",
       "       2.1990e+01, 6.5900e+00, 5.0000e+00, 1.8390e+01, 3.9200e+00,\n",
       "       1.5000e+01, 1.8100e+01, 7.2000e-01, 1.1950e+01, 4.9500e+00,\n",
       "       1.5500e+00, 2.0510e+01, 1.1750e+01, 2.6900e+00, 2.0999e+02,\n",
       "       1.2000e+01, 7.2000e+00, 5.5400e+00, 4.4800e+01, 1.4690e+01,\n",
       "       3.1000e+00, 4.6900e+00, 2.5000e+00, 1.6500e+00, 9.9000e+00,\n",
       "       1.8490e+01, 2.3000e+00, 7.4990e+01, 2.3900e+00, 5.9500e+00,\n",
       "       7.9000e+00, 7.8000e-01, 1.5900e+01, 1.6660e+01, 7.7700e+00,\n",
       "       1.0490e+01, 1.1499e+02, 3.0399e+02, 2.0000e+00, 7.5900e+00,\n",
       "       3.5900e+00, 2.8500e+00, 1.4950e+01, 3.7900e+00, 4.7000e+00,\n",
       "       7.7000e+00, 6.7900e+00, 3.7990e+01, 7.0900e+00, 1.0790e+01,\n",
       "       1.6740e+01, 4.0000e+00, 2.3600e+00, 2.2400e+00, 3.5300e+00,\n",
       "       8.9000e-01, 2.4000e+01, 8.0000e+00, 8.0000e-01, 2.8000e+00,\n",
       "       1.9500e+00, 2.4900e+01, 7.1200e+00, 2.0700e+00, 1.2580e+01,\n",
       "       3.0900e+00, 1.4300e+00, 1.4210e+01, 3.0000e+00, 5.0500e+00,\n",
       "       3.0400e+00, 7.4000e-01, 1.1890e+01, 2.1300e+00, 7.7400e+00,\n",
       "       2.4500e+01, 3.8900e+00, 1.1000e+00, 6.2990e+01, 1.6800e+00,\n",
       "       7.9990e+01, 2.1000e+00, 1.3000e+00, 1.9000e+00, 1.1900e+01,\n",
       "       7.1800e+00, 8.9000e+00, 2.1900e+00, 1.9800e+00, 2.1500e+00,\n",
       "       4.9900e+01, 1.0100e+00, 6.8900e+00, 4.2199e+02, 3.0300e+00,\n",
       "       6.2800e+00, 1.2890e+01, 1.4000e+01, 3.1400e+00, 8.5000e-01,\n",
       "       1.1400e+01, 1.0900e+01, 1.2000e+00, 1.5800e+01, 5.3400e+00,\n",
       "       1.1900e+00, 1.7000e+00, 4.2000e+00, 2.0000e+01, 6.2000e+00,\n",
       "       1.7000e+01, 1.1290e+01, 1.1500e+01, 1.1790e+01, 8.0200e+00,\n",
       "       2.2600e+00, 5.3900e+00, 9.9500e+00, 1.8000e+00, 3.9800e+00,\n",
       "       1.5400e+01, 6.5400e+00, 3.1500e+00, 2.3500e+00, 1.8900e+01,\n",
       "       3.0200e+00, 7.4200e+00, 7.7000e-01, 2.9500e+00, 5.2000e+00,\n",
       "       8.5000e+00, 6.1000e+00])"
      ]
     },
     "execution_count": 6,
     "metadata": {},
     "output_type": "execute_result"
    }
   ],
   "source": [
    "pd_data[\"price\"].unique()"
   ]
  },
  {
   "cell_type": "code",
   "execution_count": 21,
   "metadata": {},
   "outputs": [],
   "source": [
    "nodes = pd_data[['developer', 'publisher', 'name', 'genres', 'owners', 'year', 'month', 'num_systems']][:thresh]\n",
    "edges = pd_data[['average_playtime', 'median_playtime', 'price', 'grade',  ]][:thresh]"
   ]
  },
  {
   "cell_type": "code",
   "execution_count": 22,
   "metadata": {},
   "outputs": [],
   "source": [
    "n_nodes = len(nodes)\n",
    "adjacency = np.zeros((n_nodes, n_nodes), dtype=int)"
   ]
  },
  {
   "cell_type": "code",
   "execution_count": 23,
   "metadata": {},
   "outputs": [
    {
     "data": {
      "text/plain": [
       "500"
      ]
     },
     "execution_count": 23,
     "metadata": {},
     "output_type": "execute_result"
    }
   ],
   "source": [
    "n_nodes"
   ]
  },
  {
   "cell_type": "code",
   "execution_count": 24,
   "metadata": {},
   "outputs": [],
   "source": [
    "def epsilon_similarity_graph(X: np.ndarray, sigma=1, epsilon=0):\n",
    "    \"\"\" X (n x d): coordinates of the n data points in R^d.\n",
    "        sigma (float): width of the kernel\n",
    "        epsilon (float): threshold\n",
    "        Return:\n",
    "        adjacency (n x n ndarray): adjacency matrix of the graph.\n",
    "    \"\"\"\n",
    "    sq_dist = pdist(X)\n",
    "    pairwise_dists = squareform(sq_dist)**2\n",
    "    adjacency = np.exp( -pairwise_dists / (2*sigma**2) - np.identity(len(pairwise_dists)))\n",
    "\n",
    "    threshold = adjacency < epsilon\n",
    "\n",
    "    adjacency[threshold]=0\n",
    "    \n",
    "    return adjacency"
   ]
  },
  {
   "cell_type": "code",
   "execution_count": 25,
   "metadata": {},
   "outputs": [
    {
     "name": "stdout",
     "output_type": "stream",
     "text": [
      "The value of sigma is 0.0\n"
     ]
    },
    {
     "data": {
      "text/plain": [
       "(array([ 10062.,   1364.,   1472.,    722.,   1698.,   1712.,   2956.,\n",
       "          3178.,  14458., 212378.]),\n",
       " array([0. , 0.1, 0.2, 0.3, 0.4, 0.5, 0.6, 0.7, 0.8, 0.9, 1. ]),\n",
       " <a list of 10 Patch objects>)"
      ]
     },
     "execution_count": 25,
     "metadata": {},
     "output_type": "execute_result"
    },
    {
     "data": {
      "image/png": "[encoded data removed]",
      "text/plain": [
       "<Figure size 432x288 with 1 Axes>"
      ]
     },
     "metadata": {
      "needs_background": "light"
     },
     "output_type": "display_data"
    }
   ],
   "source": [
    "sq_dist = pdist(edges)\n",
    "sigma = np.std(sq_dist)\n",
    "print(f'The value of sigma is {np.std(sigma)}')\n",
    "pairwise_dists = squareform(sq_dist)**2\n",
    "adjacency = np.exp( -pairwise_dists / sigma**2 / 2) - np.identity(len(pairwise_dists))\n",
    "plt.hist(adjacency.flatten())"
   ]
  },
  {
   "cell_type": "code",
   "execution_count": 30,
   "metadata": {},
   "outputs": [],
   "source": [
    "epsilon = 0.9"
   ]
  },
  {
   "cell_type": "code",
   "execution_count": 31,
   "metadata": {},
   "outputs": [],
   "source": [
    "adjacency = epsilon_similarity_graph(edges,sigma,epsilon) "
   ]
  },
  {
   "cell_type": "code",
   "execution_count": 32,
   "metadata": {},
   "outputs": [
    {
     "data": {
      "text/plain": [
       "(array([ 37622.,      0.,      0.,      0.,      0.,      0.,      0.,\n",
       "             0.,      0., 212378.]),\n",
       " array([0. , 0.1, 0.2, 0.3, 0.4, 0.5, 0.6, 0.7, 0.8, 0.9, 1. ]),\n",
       " <a list of 10 Patch objects>)"
      ]
     },
     "execution_count": 32,
     "metadata": {},
     "output_type": "execute_result"
    },
    {
     "data": {
      "image/png": "[encoded data removed]",
      "text/plain": [
       "<Figure size 432x288 with 1 Axes>"
      ]
     },
     "metadata": {
      "needs_background": "light"
     },
     "output_type": "display_data"
    }
   ],
   "source": [
    "adjacency\n",
    "plt.hist(adjacency.flatten())"
   ]
  },
  {
   "cell_type": "code",
   "execution_count": 33,
   "metadata": {},
   "outputs": [
    {
     "data": {
      "image/png": "[encoded data removed]",
      "text/plain": [
       "<Figure size 432x288 with 1 Axes>"
      ]
     },
     "metadata": {
      "needs_background": "light"
     },
     "output_type": "display_data"
    }
   ],
   "source": [
    "plt.spy(adjacency)\n",
    "plt.show()"
   ]
  },
  {
   "cell_type": "code",
   "execution_count": 182,
   "metadata": {},
   "outputs": [],
   "source": [
    "def compute_laplacian(adjacency: np.ndarray, normalize: bool):\n",
    "    \"\"\" Return:\n",
    "        L (n x n ndarray): combinatorial or symmetric normalized Laplacian.\n",
    "    \"\"\"\n",
    "    distance = np.array([np.sum(adjacency,0)])\n",
    "    laplacian = np.diag(distance[0]) - adjacency\n",
    "    \n",
    "    if (normalize):\n",
    "        for i in range(0,np.shape(laplacien)[0]):\n",
    "            for j in range(0,np.shape(laplacien)[1]):\n",
    "                laplacian[i,j] = laplacien[i,j]/np.sqrt(dist[i]*dist[j])\n",
    "    return laplacien"
   ]
  },
  {
   "cell_type": "code",
   "execution_count": 183,
   "metadata": {},
   "outputs": [
    {
     "data": {
      "text/plain": [
       "array([[ 4.62613354e-01,  0.00000000e+00,  0.00000000e+00, ...,\n",
       "         0.00000000e+00,  0.00000000e+00,  0.00000000e+00],\n",
       "       [ 0.00000000e+00,  4.77328567e+02, -9.99421932e-01, ...,\n",
       "        -9.98485818e-01, -9.93158550e-01, -2.43946469e-01],\n",
       "       [ 0.00000000e+00, -9.99421932e-01,  4.77120756e+02, ...,\n",
       "        -9.98694118e-01, -9.91311748e-01, -2.32960669e-01],\n",
       "       ...,\n",
       "       [ 0.00000000e+00, -9.98485818e-01, -9.98694118e-01, ...,\n",
       "         4.77906924e+02, -9.96285774e-01, -2.48419976e-01],\n",
       "       [ 0.00000000e+00, -9.93158550e-01, -9.91311748e-01, ...,\n",
       "        -9.96285774e-01,  4.76771038e+02, -2.85040717e-01],\n",
       "       [ 0.00000000e+00, -2.43946469e-01, -2.32960669e-01, ...,\n",
       "        -2.48419976e-01, -2.85040717e-01,  1.31150557e+02]])"
      ]
     },
     "execution_count": 183,
     "metadata": {},
     "output_type": "execute_result"
    }
   ],
   "source": [
    "dist=np.array([np.sum(adjacency,0)])\n",
    "np.diag(dist[0])-adjacency"
   ]
  },
  {
   "cell_type": "code",
   "execution_count": 184,
   "metadata": {},
   "outputs": [],
   "source": [
    "#adjacency = adjacency[adjacency > 0]"
   ]
  },
  {
   "cell_type": "code",
   "execution_count": 185,
   "metadata": {},
   "outputs": [],
   "source": [
    "#adjacency[[True,True],[True, False]]"
   ]
  },
  {
   "cell_type": "markdown",
   "metadata": {},
   "source": [
    "## Graph building and visualization "
   ]
  },
  {
   "cell_type": "code",
   "execution_count": 186,
   "metadata": {},
   "outputs": [],
   "source": [
    "import networkx as nx"
   ]
  },
  {
   "cell_type": "code",
   "execution_count": 187,
   "metadata": {},
   "outputs": [],
   "source": [
    "graph = nx.from_numpy_array(adjacency)"
   ]
  },
  {
   "cell_type": "code",
   "execution_count": 188,
   "metadata": {},
   "outputs": [],
   "source": [
    "node_props = nodes.to_dict()"
   ]
  },
  {
   "cell_type": "code",
   "execution_count": 189,
   "metadata": {},
   "outputs": [],
   "source": [
    "for key in node_props:\n",
    "    # print(key, node_props[key])\n",
    "    nx.set_node_attributes(graph, node_props[key], key)"
   ]
  },
  {
   "cell_type": "code",
   "execution_count": 190,
   "metadata": {},
   "outputs": [
    {
     "data": {
      "text/plain": [
       "{'developer': 'Valve',\n",
       " 'publisher': 'Valve',\n",
       " 'name': 'Team Fortress Classic',\n",
       " 'genres': 'Action',\n",
       " 'owners': '5000000-10000000'}"
      ]
     },
     "execution_count": 190,
     "metadata": {},
     "output_type": "execute_result"
    }
   ],
   "source": [
    "graph.node[1]"
   ]
  },
  {
   "cell_type": "code",
   "execution_count": 191,
   "metadata": {},
   "outputs": [
    {
     "name": "stderr",
     "output_type": "stream",
     "text": [
      "/Users/peterbonnesoeur/anaconda3/lib/python3.7/site-packages/networkx/drawing/nx_pylab.py:579: MatplotlibDeprecationWarning: \n",
      "The iterable function was deprecated in Matplotlib 3.1 and will be removed in 3.3. Use np.iterable instead.\n",
      "  if not cb.iterable(width):\n"
     ]
    },
    {
     "data": {
      "image/png": "[encoded data removed]",
      "text/plain": [
       "<Figure size 432x288 with 1 Axes>"
      ]
     },
     "metadata": {},
     "output_type": "display_data"
    }
   ],
   "source": [
    "nx.draw_spectral(graph)"
   ]
  },
  {
   "cell_type": "code",
   "execution_count": 192,
   "metadata": {},
   "outputs": [],
   "source": [
    "nx.write_gexf(graph, \"test\"+str(thresh)+\".gexf\")"
   ]
  },
  {
   "cell_type": "markdown",
   "metadata": {},
   "source": [
    "## Test sparse Matrices "
   ]
  },
  {
   "cell_type": "code",
   "execution_count": 1,
   "metadata": {},
   "outputs": [],
   "source": [
    "import numpy as np\n",
    "from scipy.sparse import csr_matrix"
   ]
  },
  {
   "cell_type": "code",
   "execution_count": null,
   "metadata": {},
   "outputs": [],
   "source": [
    "def epsilon_similarity_graph(X: np.ndarray, sigma=1, epsilon=0):\n",
    "    \"\"\" X (n x d): coordinates of the n data points in R^d.\n",
    "        sigma (float): width of the kernel\n",
    "        epsilon (float): threshold\n",
    "        Return:\n",
    "        adjacency (n x n ndarray): adjacency matrix of the graph.\n",
    "    \"\"\"\n",
    "    sq_dist = pdist(X)\n",
    "    pairwise_dists = squareform(sq_dist)**2\n",
    "    adjacency = np.exp( -pairwise_dists / (2*sigma**2) - np.identity(len(pairwise_dists)))\n",
    "\n",
    "    threshold = adjacency < epsilon\n",
    "\n",
    "    adjacency[threshold]=0\n",
    "    \n",
    "    return adjacency"
   ]
  },
  {
   "cell_type": "code",
   "execution_count": null,
   "metadata": {},
   "outputs": [],
   "source": [
    "G=nx.from_pandas_edgelist(df_tmp,'Src_IATA','Des_IATA', edge_attr='weight')"
   ]
  },
  {
   "cell_type": "code",
   "execution_count": null,
   "metadata": {},
   "outputs": [],
   "source": [
    "pd_data[\"price\"].unique()"
   ]
  }
 ],
 "metadata": {
  "kernelspec": {
   "display_name": "Python 3",
   "language": "python",
   "name": "python3"
  },
  "language_info": {
   "codemirror_mode": {
    "name": "ipython",
    "version": 3
   },
   "file_extension": ".py",
   "mimetype": "text/x-python",
   "name": "python",
   "nbconvert_exporter": "python",
   "pygments_lexer": "ipython3",
   "version": "3.7.3"
  }
 },
 "nbformat": 4,
 "nbformat_minor": 4
}
