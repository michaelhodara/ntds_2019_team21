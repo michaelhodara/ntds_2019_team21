{
 "cells": [
  {
   "cell_type": "code",
   "execution_count": null,
   "metadata": {},
   "outputs": [],
   "source": [
    "import numpy as np\n",
    "import pandas as pd\n",
    "import os\n",
    "from matplotlib import pyplot as plt\n",
    "from scipy.spatial.distance import pdist, squareform\n",
    "\n",
    "%matplotlib inline"
   ]
  },
  {
   "cell_type": "code",
   "execution_count": null,
   "metadata": {},
   "outputs": [],
   "source": [
    "pd_data =pd.read_csv(os.getcwd() + '/processed_data.csv')"
   ]
  },
  {
   "cell_type": "code",
   "execution_count": null,
   "metadata": {},
   "outputs": [],
   "source": [
    "pd_data = pd_data.drop(columns=['release_date', 'steam_appid','platforms', 'categories','min_RAM','positive_ratings','negative_ratings','steamspy_tags', 'english', 'pc_requirements', 'mac_requirements','achievements','linux_requirements', 'minimum', 'recommended'])\n",
    "pd_data.columns\n",
    "pd_data = pd_data.dropna()"
   ]
  },
  {
   "cell_type": "markdown",
   "metadata": {},
   "source": [
    "## Setting the threshold "
   ]
  },
  {
   "cell_type": "code",
   "execution_count": null,
   "metadata": {},
   "outputs": [],
   "source": [
    "thresh = 5000"
   ]
  },
  {
   "cell_type": "code",
   "execution_count": null,
   "metadata": {},
   "outputs": [],
   "source": [
    "nodes = pd_data[['developer', 'publisher', 'name', 'genres', 'owners']][:thresh]\n",
    "edges = pd_data[['average_playtime', 'median_playtime', 'price', 'grade', 'month', 'year', 'num_systems']][:thresh]"
   ]
  },
  {
   "cell_type": "code",
   "execution_count": null,
   "metadata": {},
   "outputs": [],
   "source": [
    "n_nodes = len(nodes)\n",
    "adjacency = np.zeros((n_nodes, n_nodes), dtype=int)"
   ]
  },
  {
   "cell_type": "code",
   "execution_count": null,
   "metadata": {},
   "outputs": [],
   "source": [
    "n_nodes"
   ]
  },
  {
   "cell_type": "code",
   "execution_count": null,
   "metadata": {},
   "outputs": [],
   "source": [
    "def epsilon_similarity_graph(X: np.ndarray, sigma=1, epsilon=0):\n",
    "    \"\"\" X (n x d): coordinates of the n data points in R^d.\n",
    "        sigma (float): width of the kernel\n",
    "        epsilon (float): threshold\n",
    "        Return:\n",
    "        adjacency (n x n ndarray): adjacency matrix of the graph.\n",
    "    \"\"\"\n",
    "    sq_dist = pdist(X)\n",
    "    pairwise_dists = squareform(sq_dist)**2\n",
    "    adjacency = np.exp( -pairwise_dists / (2*sigma**2) - np.identity(len(pairwise_dists)))\n",
    "\n",
    "    threshold = adjacency < epsilon\n",
    "\n",
    "    adjacency[threshold]=0\n",
    "    \n",
    "    return adjacency"
   ]
  },
  {
   "cell_type": "code",
   "execution_count": null,
   "metadata": {},
   "outputs": [],
   "source": [
    "sq_dist = pdist(edges)\n",
    "sigma = np.std(sq_dist)\n",
    "print(f'The value of sigma is {np.std(sigma)}')\n",
    "pairwise_dists = squareform(sq_dist)**2\n",
    "adjacency = np.exp( -pairwise_dists / sigma**2 / 2) - np.identity(len(pairwise_dists))\n",
    "plt.hist(adjacency.flatten())"
   ]
  },
  {
   "cell_type": "code",
   "execution_count": null,
   "metadata": {},
   "outputs": [],
   "source": [
    "epsilon = 0.8"
   ]
  },
  {
   "cell_type": "code",
   "execution_count": null,
   "metadata": {},
   "outputs": [],
   "source": [
    "adjacency = epsilon_similarity_graph(edges,sigma,epsilon+0.1) "
   ]
  },
  {
   "cell_type": "code",
   "execution_count": null,
   "metadata": {},
   "outputs": [],
   "source": [
    "plt.spy(adjacency)\n",
    "plt.show()"
   ]
  },
  {
   "cell_type": "code",
   "execution_count": 15,
   "metadata": {},
   "outputs": [],
   "source": [
    "def compute_laplacian(adjacency: np.ndarray, normalize: bool):\n",
    "    \"\"\" Return:\n",
    "        L (n x n ndarray): combinatorial or symmetric normalized Laplacian.\n",
    "    \"\"\"\n",
    "    distance = np.array([np.sum(adjacency,0)])\n",
    "    laplacian = np.diag(distance[0]) - adjacency\n",
    "    \n",
    "    if (normalize):\n",
    "        for i in range(0,np.shape(laplacien)[0]):\n",
    "            for j in range(0,np.shape(laplacien)[1]):\n",
    "                laplacian[i,j] = laplacien[i,j]/np.sqrt(dist[i]*dist[j])\n",
    "    return laplacien"
   ]
  },
  {
   "cell_type": "code",
   "execution_count": 113,
   "metadata": {},
   "outputs": [
    {
     "data": {
      "text/plain": [
       "array([[ 9.67055658e-01,  0.00000000e+00,  0.00000000e+00, ...,\n",
       "         0.00000000e+00,  0.00000000e+00,  0.00000000e+00],\n",
       "       [ 0.00000000e+00,  2.89303265e+03, -9.99898805e-01, ...,\n",
       "        -9.99081608e-01, -9.99080929e-01, -9.99713098e-01],\n",
       "       [ 0.00000000e+00, -9.99898805e-01,  2.89114184e+03, ...,\n",
       "        -9.99587793e-01, -9.99587227e-01, -9.99846717e-01],\n",
       "       ...,\n",
       "       [ 0.00000000e+00, -9.99081608e-01, -9.99587793e-01, ...,\n",
       "         2.88584774e+03, -9.99998728e-01, -9.99560189e-01],\n",
       "       [ 0.00000000e+00, -9.99080929e-01, -9.99587227e-01, ...,\n",
       "        -9.99998728e-01,  2.88584978e+03, -9.99560574e-01],\n",
       "       [ 0.00000000e+00, -9.99713098e-01, -9.99846717e-01, ...,\n",
       "        -9.99560189e-01, -9.99560574e-01,  2.89176771e+03]])"
      ]
     },
     "execution_count": 113,
     "metadata": {},
     "output_type": "execute_result"
    }
   ],
   "source": [
    "dist=np.array([np.sum(adjacency,0)])\n",
    "np.diag(dist[0])-adjacency"
   ]
  },
  {
   "cell_type": "code",
   "execution_count": 114,
   "metadata": {},
   "outputs": [],
   "source": [
    "#adjacency = adjacency[adjacency > 0]"
   ]
  },
  {
   "cell_type": "code",
   "execution_count": 115,
   "metadata": {},
   "outputs": [],
   "source": [
    "#adjacency[[True,True],[True, False]]"
   ]
  },
  {
   "cell_type": "markdown",
   "metadata": {},
   "source": [
    "## Graph building and visualization "
   ]
  },
  {
   "cell_type": "code",
   "execution_count": null,
   "metadata": {},
   "outputs": [],
   "source": [
    "import networkx as nx"
   ]
  },
  {
   "cell_type": "code",
   "execution_count": null,
   "metadata": {},
   "outputs": [],
   "source": [
    "graph = nx.from_numpy_array(adjacency)"
   ]
  },
  {
   "cell_type": "code",
   "execution_count": null,
   "metadata": {},
   "outputs": [],
   "source": [
    "node_props = nodes.to_dict()"
   ]
  },
  {
   "cell_type": "code",
   "execution_count": null,
   "metadata": {},
   "outputs": [],
   "source": [
    "for key in node_props:\n",
    "    # print(key, node_props[key])\n",
    "    nx.set_node_attributes(graph, node_props[key], key)"
   ]
  },
  {
   "cell_type": "code",
   "execution_count": null,
   "metadata": {},
   "outputs": [],
   "source": [
    "graph.node[1]"
   ]
  },
  {
   "cell_type": "code",
   "execution_count": null,
   "metadata": {},
   "outputs": [],
   "source": [
    "nx.draw_spectral(graph)"
   ]
  },
  {
   "cell_type": "code",
   "execution_count": null,
   "metadata": {},
   "outputs": [],
   "source": []
  }
 ],
 "metadata": {
  "kernelspec": {
   "display_name": "Python 3",
   "language": "python",
   "name": "python3"
  },
  "language_info": {
   "codemirror_mode": {
    "name": "ipython",
    "version": 3
   },
   "file_extension": ".py",
   "mimetype": "text/x-python",
   "name": "python",
   "nbconvert_exporter": "python",
   "pygments_lexer": "ipython3",
   "version": "3.7.3"
  }
 },
 "nbformat": 4,
 "nbformat_minor": 4
}
