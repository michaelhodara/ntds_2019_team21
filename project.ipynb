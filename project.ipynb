{
 "cells": [
  {
   "cell_type": "markdown",
   "metadata": {},
   "source": [
    "# Section 1 : Loading and cleaning data"
   ]
  },
  {
   "cell_type": "code",
   "execution_count": 1,
   "metadata": {},
   "outputs": [],
   "source": [
    "import numpy as np\n",
    "import pandas as pd\n",
    "import os\n",
    "from matplotlib import pyplot as plt\n",
    "from scipy.spatial.distance import pdist, squareform\n",
    "\n",
    "%matplotlib inline"
   ]
  },
  {
   "cell_type": "markdown",
   "metadata": {},
   "source": [
    "## Disovering the data "
   ]
  },
  {
   "cell_type": "markdown",
   "metadata": {},
   "source": [
    "Before going through any assumptions, lets open all of the csv files to discover what are the available data and how are those data arranged."
   ]
  },
  {
   "cell_type": "markdown",
   "metadata": {},
   "source": [
    "## Content "
   ]
  },
  {
   "cell_type": "markdown",
   "metadata": {},
   "source": [
    "This file contains the informations about the game such as the name of the game, the release data,tags,...\n",
    "It will be one of the m,ain file that we will use during our project"
   ]
  },
  {
   "cell_type": "code",
   "execution_count": 2,
   "metadata": {},
   "outputs": [
    {
     "data": {
      "text/html": [
       "<div>\n",
       "<style scoped>\n",
       "    .dataframe tbody tr th:only-of-type {\n",
       "        vertical-align: middle;\n",
       "    }\n",
       "\n",
       "    .dataframe tbody tr th {\n",
       "        vertical-align: top;\n",
       "    }\n",
       "\n",
       "    .dataframe thead th {\n",
       "        text-align: right;\n",
       "    }\n",
       "</style>\n",
       "<table border=\"1\" class=\"dataframe\">\n",
       "  <thead>\n",
       "    <tr style=\"text-align: right;\">\n",
       "      <th></th>\n",
       "      <th>appid</th>\n",
       "      <th>name</th>\n",
       "      <th>release_date</th>\n",
       "      <th>english</th>\n",
       "      <th>developer</th>\n",
       "      <th>publisher</th>\n",
       "      <th>platforms</th>\n",
       "      <th>required_age</th>\n",
       "      <th>categories</th>\n",
       "      <th>genres</th>\n",
       "      <th>steamspy_tags</th>\n",
       "      <th>achievements</th>\n",
       "      <th>positive_ratings</th>\n",
       "      <th>negative_ratings</th>\n",
       "      <th>average_playtime</th>\n",
       "      <th>median_playtime</th>\n",
       "      <th>owners</th>\n",
       "      <th>price</th>\n",
       "    </tr>\n",
       "  </thead>\n",
       "  <tbody>\n",
       "    <tr>\n",
       "      <td>0</td>\n",
       "      <td>10</td>\n",
       "      <td>Counter-Strike</td>\n",
       "      <td>2000-11-01</td>\n",
       "      <td>1</td>\n",
       "      <td>Valve</td>\n",
       "      <td>Valve</td>\n",
       "      <td>windows;mac;linux</td>\n",
       "      <td>0</td>\n",
       "      <td>Multi-player;Online Multi-Player;Local Multi-P...</td>\n",
       "      <td>Action</td>\n",
       "      <td>Action;FPS;Multiplayer</td>\n",
       "      <td>0</td>\n",
       "      <td>124534</td>\n",
       "      <td>3339</td>\n",
       "      <td>17612</td>\n",
       "      <td>317</td>\n",
       "      <td>10000000-20000000</td>\n",
       "      <td>7.19</td>\n",
       "    </tr>\n",
       "    <tr>\n",
       "      <td>1</td>\n",
       "      <td>20</td>\n",
       "      <td>Team Fortress Classic</td>\n",
       "      <td>1999-04-01</td>\n",
       "      <td>1</td>\n",
       "      <td>Valve</td>\n",
       "      <td>Valve</td>\n",
       "      <td>windows;mac;linux</td>\n",
       "      <td>0</td>\n",
       "      <td>Multi-player;Online Multi-Player;Local Multi-P...</td>\n",
       "      <td>Action</td>\n",
       "      <td>Action;FPS;Multiplayer</td>\n",
       "      <td>0</td>\n",
       "      <td>3318</td>\n",
       "      <td>633</td>\n",
       "      <td>277</td>\n",
       "      <td>62</td>\n",
       "      <td>5000000-10000000</td>\n",
       "      <td>3.99</td>\n",
       "    </tr>\n",
       "    <tr>\n",
       "      <td>2</td>\n",
       "      <td>30</td>\n",
       "      <td>Day of Defeat</td>\n",
       "      <td>2003-05-01</td>\n",
       "      <td>1</td>\n",
       "      <td>Valve</td>\n",
       "      <td>Valve</td>\n",
       "      <td>windows;mac;linux</td>\n",
       "      <td>0</td>\n",
       "      <td>Multi-player;Valve Anti-Cheat enabled</td>\n",
       "      <td>Action</td>\n",
       "      <td>FPS;World War II;Multiplayer</td>\n",
       "      <td>0</td>\n",
       "      <td>3416</td>\n",
       "      <td>398</td>\n",
       "      <td>187</td>\n",
       "      <td>34</td>\n",
       "      <td>5000000-10000000</td>\n",
       "      <td>3.99</td>\n",
       "    </tr>\n",
       "    <tr>\n",
       "      <td>3</td>\n",
       "      <td>40</td>\n",
       "      <td>Deathmatch Classic</td>\n",
       "      <td>2001-06-01</td>\n",
       "      <td>1</td>\n",
       "      <td>Valve</td>\n",
       "      <td>Valve</td>\n",
       "      <td>windows;mac;linux</td>\n",
       "      <td>0</td>\n",
       "      <td>Multi-player;Online Multi-Player;Local Multi-P...</td>\n",
       "      <td>Action</td>\n",
       "      <td>Action;FPS;Multiplayer</td>\n",
       "      <td>0</td>\n",
       "      <td>1273</td>\n",
       "      <td>267</td>\n",
       "      <td>258</td>\n",
       "      <td>184</td>\n",
       "      <td>5000000-10000000</td>\n",
       "      <td>3.99</td>\n",
       "    </tr>\n",
       "    <tr>\n",
       "      <td>4</td>\n",
       "      <td>50</td>\n",
       "      <td>Half-Life: Opposing Force</td>\n",
       "      <td>1999-11-01</td>\n",
       "      <td>1</td>\n",
       "      <td>Gearbox Software</td>\n",
       "      <td>Valve</td>\n",
       "      <td>windows;mac;linux</td>\n",
       "      <td>0</td>\n",
       "      <td>Single-player;Multi-player;Valve Anti-Cheat en...</td>\n",
       "      <td>Action</td>\n",
       "      <td>FPS;Action;Sci-fi</td>\n",
       "      <td>0</td>\n",
       "      <td>5250</td>\n",
       "      <td>288</td>\n",
       "      <td>624</td>\n",
       "      <td>415</td>\n",
       "      <td>5000000-10000000</td>\n",
       "      <td>3.99</td>\n",
       "    </tr>\n",
       "  </tbody>\n",
       "</table>\n",
       "</div>"
      ],
      "text/plain": [
       "   appid                       name release_date  english         developer  \\\n",
       "0     10             Counter-Strike   2000-11-01        1             Valve   \n",
       "1     20      Team Fortress Classic   1999-04-01        1             Valve   \n",
       "2     30              Day of Defeat   2003-05-01        1             Valve   \n",
       "3     40         Deathmatch Classic   2001-06-01        1             Valve   \n",
       "4     50  Half-Life: Opposing Force   1999-11-01        1  Gearbox Software   \n",
       "\n",
       "  publisher          platforms  required_age  \\\n",
       "0     Valve  windows;mac;linux             0   \n",
       "1     Valve  windows;mac;linux             0   \n",
       "2     Valve  windows;mac;linux             0   \n",
       "3     Valve  windows;mac;linux             0   \n",
       "4     Valve  windows;mac;linux             0   \n",
       "\n",
       "                                          categories  genres  \\\n",
       "0  Multi-player;Online Multi-Player;Local Multi-P...  Action   \n",
       "1  Multi-player;Online Multi-Player;Local Multi-P...  Action   \n",
       "2              Multi-player;Valve Anti-Cheat enabled  Action   \n",
       "3  Multi-player;Online Multi-Player;Local Multi-P...  Action   \n",
       "4  Single-player;Multi-player;Valve Anti-Cheat en...  Action   \n",
       "\n",
       "                  steamspy_tags  achievements  positive_ratings  \\\n",
       "0        Action;FPS;Multiplayer             0            124534   \n",
       "1        Action;FPS;Multiplayer             0              3318   \n",
       "2  FPS;World War II;Multiplayer             0              3416   \n",
       "3        Action;FPS;Multiplayer             0              1273   \n",
       "4             FPS;Action;Sci-fi             0              5250   \n",
       "\n",
       "   negative_ratings  average_playtime  median_playtime             owners  \\\n",
       "0              3339             17612              317  10000000-20000000   \n",
       "1               633               277               62   5000000-10000000   \n",
       "2               398               187               34   5000000-10000000   \n",
       "3               267               258              184   5000000-10000000   \n",
       "4               288               624              415   5000000-10000000   \n",
       "\n",
       "   price  \n",
       "0   7.19  \n",
       "1   3.99  \n",
       "2   3.99  \n",
       "3   3.99  \n",
       "4   3.99  "
      ]
     },
     "execution_count": 2,
     "metadata": {},
     "output_type": "execute_result"
    }
   ],
   "source": [
    "pd_content = pd.read_csv(os.getcwd() + '/steam-store-games/steam.csv')\n",
    "pd_content.head()"
   ]
  },
  {
   "cell_type": "markdown",
   "metadata": {},
   "source": [
    "## Description "
   ]
  },
  {
   "cell_type": "markdown",
   "metadata": {},
   "source": [
    "This file contain a small abstrract and a long description of the games. This file will have to be pre-processed to extract some useful features."
   ]
  },
  {
   "cell_type": "code",
   "execution_count": 3,
   "metadata": {},
   "outputs": [
    {
     "data": {
      "text/html": [
       "<div>\n",
       "<style scoped>\n",
       "    .dataframe tbody tr th:only-of-type {\n",
       "        vertical-align: middle;\n",
       "    }\n",
       "\n",
       "    .dataframe tbody tr th {\n",
       "        vertical-align: top;\n",
       "    }\n",
       "\n",
       "    .dataframe thead th {\n",
       "        text-align: right;\n",
       "    }\n",
       "</style>\n",
       "<table border=\"1\" class=\"dataframe\">\n",
       "  <thead>\n",
       "    <tr style=\"text-align: right;\">\n",
       "      <th></th>\n",
       "      <th>steam_appid</th>\n",
       "      <th>detailed_description</th>\n",
       "      <th>about_the_game</th>\n",
       "      <th>short_description</th>\n",
       "    </tr>\n",
       "  </thead>\n",
       "  <tbody>\n",
       "    <tr>\n",
       "      <td>0</td>\n",
       "      <td>10</td>\n",
       "      <td>Play the world's number 1 online action game. ...</td>\n",
       "      <td>Play the world's number 1 online action game. ...</td>\n",
       "      <td>Play the world's number 1 online action game. ...</td>\n",
       "    </tr>\n",
       "    <tr>\n",
       "      <td>1</td>\n",
       "      <td>20</td>\n",
       "      <td>One of the most popular online action games of...</td>\n",
       "      <td>One of the most popular online action games of...</td>\n",
       "      <td>One of the most popular online action games of...</td>\n",
       "    </tr>\n",
       "    <tr>\n",
       "      <td>2</td>\n",
       "      <td>30</td>\n",
       "      <td>Enlist in an intense brand of Axis vs. Allied ...</td>\n",
       "      <td>Enlist in an intense brand of Axis vs. Allied ...</td>\n",
       "      <td>Enlist in an intense brand of Axis vs. Allied ...</td>\n",
       "    </tr>\n",
       "    <tr>\n",
       "      <td>3</td>\n",
       "      <td>40</td>\n",
       "      <td>Enjoy fast-paced multiplayer gaming with Death...</td>\n",
       "      <td>Enjoy fast-paced multiplayer gaming with Death...</td>\n",
       "      <td>Enjoy fast-paced multiplayer gaming with Death...</td>\n",
       "    </tr>\n",
       "    <tr>\n",
       "      <td>4</td>\n",
       "      <td>50</td>\n",
       "      <td>Return to the Black Mesa Research Facility as ...</td>\n",
       "      <td>Return to the Black Mesa Research Facility as ...</td>\n",
       "      <td>Return to the Black Mesa Research Facility as ...</td>\n",
       "    </tr>\n",
       "  </tbody>\n",
       "</table>\n",
       "</div>"
      ],
      "text/plain": [
       "   steam_appid                               detailed_description  \\\n",
       "0           10  Play the world's number 1 online action game. ...   \n",
       "1           20  One of the most popular online action games of...   \n",
       "2           30  Enlist in an intense brand of Axis vs. Allied ...   \n",
       "3           40  Enjoy fast-paced multiplayer gaming with Death...   \n",
       "4           50  Return to the Black Mesa Research Facility as ...   \n",
       "\n",
       "                                      about_the_game  \\\n",
       "0  Play the world's number 1 online action game. ...   \n",
       "1  One of the most popular online action games of...   \n",
       "2  Enlist in an intense brand of Axis vs. Allied ...   \n",
       "3  Enjoy fast-paced multiplayer gaming with Death...   \n",
       "4  Return to the Black Mesa Research Facility as ...   \n",
       "\n",
       "                                   short_description  \n",
       "0  Play the world's number 1 online action game. ...  \n",
       "1  One of the most popular online action games of...  \n",
       "2  Enlist in an intense brand of Axis vs. Allied ...  \n",
       "3  Enjoy fast-paced multiplayer gaming with Death...  \n",
       "4  Return to the Black Mesa Research Facility as ...  "
      ]
     },
     "execution_count": 3,
     "metadata": {},
     "output_type": "execute_result"
    }
   ],
   "source": [
    "pd_description = pd.read_csv(os.getcwd() + '/steam-store-games/steam_description_data.csv')\n",
    "pd_description.head()"
   ]
  },
  {
   "cell_type": "markdown",
   "metadata": {},
   "source": [
    "## Media type"
   ]
  },
  {
   "cell_type": "markdown",
   "metadata": {},
   "source": [
    "Type of media supported by the video game and the minimum requirement of such a game."
   ]
  },
  {
   "cell_type": "code",
   "execution_count": 4,
   "metadata": {},
   "outputs": [
    {
     "data": {
      "text/html": [
       "<div>\n",
       "<style scoped>\n",
       "    .dataframe tbody tr th:only-of-type {\n",
       "        vertical-align: middle;\n",
       "    }\n",
       "\n",
       "    .dataframe tbody tr th {\n",
       "        vertical-align: top;\n",
       "    }\n",
       "\n",
       "    .dataframe thead th {\n",
       "        text-align: right;\n",
       "    }\n",
       "</style>\n",
       "<table border=\"1\" class=\"dataframe\">\n",
       "  <thead>\n",
       "    <tr style=\"text-align: right;\">\n",
       "      <th></th>\n",
       "      <th>steam_appid</th>\n",
       "      <th>header_image</th>\n",
       "      <th>screenshots</th>\n",
       "      <th>background</th>\n",
       "      <th>movies</th>\n",
       "    </tr>\n",
       "  </thead>\n",
       "  <tbody>\n",
       "    <tr>\n",
       "      <td>0</td>\n",
       "      <td>10</td>\n",
       "      <td>https://steamcdn-a.akamaihd.net/steam/apps/10/...</td>\n",
       "      <td>[{'id': 0, 'path_thumbnail': 'https://steamcdn...</td>\n",
       "      <td>https://steamcdn-a.akamaihd.net/steam/apps/10/...</td>\n",
       "      <td>NaN</td>\n",
       "    </tr>\n",
       "    <tr>\n",
       "      <td>1</td>\n",
       "      <td>20</td>\n",
       "      <td>https://steamcdn-a.akamaihd.net/steam/apps/20/...</td>\n",
       "      <td>[{'id': 0, 'path_thumbnail': 'https://steamcdn...</td>\n",
       "      <td>https://steamcdn-a.akamaihd.net/steam/apps/20/...</td>\n",
       "      <td>NaN</td>\n",
       "    </tr>\n",
       "    <tr>\n",
       "      <td>2</td>\n",
       "      <td>30</td>\n",
       "      <td>https://steamcdn-a.akamaihd.net/steam/apps/30/...</td>\n",
       "      <td>[{'id': 0, 'path_thumbnail': 'https://steamcdn...</td>\n",
       "      <td>https://steamcdn-a.akamaihd.net/steam/apps/30/...</td>\n",
       "      <td>NaN</td>\n",
       "    </tr>\n",
       "    <tr>\n",
       "      <td>3</td>\n",
       "      <td>40</td>\n",
       "      <td>https://steamcdn-a.akamaihd.net/steam/apps/40/...</td>\n",
       "      <td>[{'id': 0, 'path_thumbnail': 'https://steamcdn...</td>\n",
       "      <td>https://steamcdn-a.akamaihd.net/steam/apps/40/...</td>\n",
       "      <td>NaN</td>\n",
       "    </tr>\n",
       "    <tr>\n",
       "      <td>4</td>\n",
       "      <td>50</td>\n",
       "      <td>https://steamcdn-a.akamaihd.net/steam/apps/50/...</td>\n",
       "      <td>[{'id': 0, 'path_thumbnail': 'https://steamcdn...</td>\n",
       "      <td>https://steamcdn-a.akamaihd.net/steam/apps/50/...</td>\n",
       "      <td>NaN</td>\n",
       "    </tr>\n",
       "  </tbody>\n",
       "</table>\n",
       "</div>"
      ],
      "text/plain": [
       "   steam_appid                                       header_image  \\\n",
       "0           10  https://steamcdn-a.akamaihd.net/steam/apps/10/...   \n",
       "1           20  https://steamcdn-a.akamaihd.net/steam/apps/20/...   \n",
       "2           30  https://steamcdn-a.akamaihd.net/steam/apps/30/...   \n",
       "3           40  https://steamcdn-a.akamaihd.net/steam/apps/40/...   \n",
       "4           50  https://steamcdn-a.akamaihd.net/steam/apps/50/...   \n",
       "\n",
       "                                         screenshots  \\\n",
       "0  [{'id': 0, 'path_thumbnail': 'https://steamcdn...   \n",
       "1  [{'id': 0, 'path_thumbnail': 'https://steamcdn...   \n",
       "2  [{'id': 0, 'path_thumbnail': 'https://steamcdn...   \n",
       "3  [{'id': 0, 'path_thumbnail': 'https://steamcdn...   \n",
       "4  [{'id': 0, 'path_thumbnail': 'https://steamcdn...   \n",
       "\n",
       "                                          background movies  \n",
       "0  https://steamcdn-a.akamaihd.net/steam/apps/10/...    NaN  \n",
       "1  https://steamcdn-a.akamaihd.net/steam/apps/20/...    NaN  \n",
       "2  https://steamcdn-a.akamaihd.net/steam/apps/30/...    NaN  \n",
       "3  https://steamcdn-a.akamaihd.net/steam/apps/40/...    NaN  \n",
       "4  https://steamcdn-a.akamaihd.net/steam/apps/50/...    NaN  "
      ]
     },
     "execution_count": 4,
     "metadata": {},
     "output_type": "execute_result"
    }
   ],
   "source": [
    "pd_media = pd.read_csv(os.getcwd() + '/steam-store-games/steam_media_data.csv')\n",
    "pd_media.head()"
   ]
  },
  {
   "cell_type": "code",
   "execution_count": 5,
   "metadata": {},
   "outputs": [
    {
     "data": {
      "text/html": [
       "<div>\n",
       "<style scoped>\n",
       "    .dataframe tbody tr th:only-of-type {\n",
       "        vertical-align: middle;\n",
       "    }\n",
       "\n",
       "    .dataframe tbody tr th {\n",
       "        vertical-align: top;\n",
       "    }\n",
       "\n",
       "    .dataframe thead th {\n",
       "        text-align: right;\n",
       "    }\n",
       "</style>\n",
       "<table border=\"1\" class=\"dataframe\">\n",
       "  <thead>\n",
       "    <tr style=\"text-align: right;\">\n",
       "      <th></th>\n",
       "      <th>steam_appid</th>\n",
       "      <th>pc_requirements</th>\n",
       "      <th>mac_requirements</th>\n",
       "      <th>linux_requirements</th>\n",
       "      <th>minimum</th>\n",
       "      <th>recommended</th>\n",
       "    </tr>\n",
       "  </thead>\n",
       "  <tbody>\n",
       "    <tr>\n",
       "      <td>0</td>\n",
       "      <td>10</td>\n",
       "      <td>{'minimum': '\\r\\n\\t\\t\\t&lt;p&gt;&lt;strong&gt;Minimum:&lt;/st...</td>\n",
       "      <td>{'minimum': 'Minimum: OS X  Snow Leopard 10.6....</td>\n",
       "      <td>{'minimum': 'Minimum: Linux Ubuntu 12.04, Dual...</td>\n",
       "      <td>500 mhz processor, 96mb ram, 16mb video card, ...</td>\n",
       "      <td>NaN</td>\n",
       "    </tr>\n",
       "    <tr>\n",
       "      <td>1</td>\n",
       "      <td>20</td>\n",
       "      <td>{'minimum': '\\r\\n\\t\\t\\t&lt;p&gt;&lt;strong&gt;Minimum:&lt;/st...</td>\n",
       "      <td>{'minimum': 'Minimum: OS X  Snow Leopard 10.6....</td>\n",
       "      <td>{'minimum': 'Minimum: Linux Ubuntu 12.04, Dual...</td>\n",
       "      <td>500 mhz processor, 96mb ram, 16mb video card, ...</td>\n",
       "      <td>NaN</td>\n",
       "    </tr>\n",
       "    <tr>\n",
       "      <td>2</td>\n",
       "      <td>30</td>\n",
       "      <td>{'minimum': '\\r\\n\\t\\t\\t&lt;p&gt;&lt;strong&gt;Minimum:&lt;/st...</td>\n",
       "      <td>{'minimum': 'Minimum: OS X  Snow Leopard 10.6....</td>\n",
       "      <td>{'minimum': 'Minimum: Linux Ubuntu 12.04, Dual...</td>\n",
       "      <td>500 mhz processor, 96mb ram, 16mb video card, ...</td>\n",
       "      <td>NaN</td>\n",
       "    </tr>\n",
       "    <tr>\n",
       "      <td>3</td>\n",
       "      <td>40</td>\n",
       "      <td>{'minimum': '\\r\\n\\t\\t\\t&lt;p&gt;&lt;strong&gt;Minimum:&lt;/st...</td>\n",
       "      <td>{'minimum': 'Minimum: OS X  Snow Leopard 10.6....</td>\n",
       "      <td>{'minimum': 'Minimum: Linux Ubuntu 12.04, Dual...</td>\n",
       "      <td>500 mhz processor, 96mb ram, 16mb video card, ...</td>\n",
       "      <td>NaN</td>\n",
       "    </tr>\n",
       "    <tr>\n",
       "      <td>4</td>\n",
       "      <td>50</td>\n",
       "      <td>{'minimum': '\\r\\n\\t\\t\\t&lt;p&gt;&lt;strong&gt;Minimum:&lt;/st...</td>\n",
       "      <td>{'minimum': 'Minimum: OS X  Snow Leopard 10.6....</td>\n",
       "      <td>{'minimum': 'Minimum: Linux Ubuntu 12.04, Dual...</td>\n",
       "      <td>500 mhz processor, 96mb ram, 16mb video card, ...</td>\n",
       "      <td>NaN</td>\n",
       "    </tr>\n",
       "  </tbody>\n",
       "</table>\n",
       "</div>"
      ],
      "text/plain": [
       "   steam_appid                                    pc_requirements  \\\n",
       "0           10  {'minimum': '\\r\\n\\t\\t\\t<p><strong>Minimum:</st...   \n",
       "1           20  {'minimum': '\\r\\n\\t\\t\\t<p><strong>Minimum:</st...   \n",
       "2           30  {'minimum': '\\r\\n\\t\\t\\t<p><strong>Minimum:</st...   \n",
       "3           40  {'minimum': '\\r\\n\\t\\t\\t<p><strong>Minimum:</st...   \n",
       "4           50  {'minimum': '\\r\\n\\t\\t\\t<p><strong>Minimum:</st...   \n",
       "\n",
       "                                    mac_requirements  \\\n",
       "0  {'minimum': 'Minimum: OS X  Snow Leopard 10.6....   \n",
       "1  {'minimum': 'Minimum: OS X  Snow Leopard 10.6....   \n",
       "2  {'minimum': 'Minimum: OS X  Snow Leopard 10.6....   \n",
       "3  {'minimum': 'Minimum: OS X  Snow Leopard 10.6....   \n",
       "4  {'minimum': 'Minimum: OS X  Snow Leopard 10.6....   \n",
       "\n",
       "                                  linux_requirements  \\\n",
       "0  {'minimum': 'Minimum: Linux Ubuntu 12.04, Dual...   \n",
       "1  {'minimum': 'Minimum: Linux Ubuntu 12.04, Dual...   \n",
       "2  {'minimum': 'Minimum: Linux Ubuntu 12.04, Dual...   \n",
       "3  {'minimum': 'Minimum: Linux Ubuntu 12.04, Dual...   \n",
       "4  {'minimum': 'Minimum: Linux Ubuntu 12.04, Dual...   \n",
       "\n",
       "                                             minimum recommended  \n",
       "0  500 mhz processor, 96mb ram, 16mb video card, ...         NaN  \n",
       "1  500 mhz processor, 96mb ram, 16mb video card, ...         NaN  \n",
       "2  500 mhz processor, 96mb ram, 16mb video card, ...         NaN  \n",
       "3  500 mhz processor, 96mb ram, 16mb video card, ...         NaN  \n",
       "4  500 mhz processor, 96mb ram, 16mb video card, ...         NaN  "
      ]
     },
     "execution_count": 5,
     "metadata": {},
     "output_type": "execute_result"
    }
   ],
   "source": [
    "pd_requirements = pd.read_csv(os.getcwd() + '/steam-store-games/steam_requirements_data.csv')\n",
    "pd_requirements.head()"
   ]
  },
  {
   "cell_type": "markdown",
   "metadata": {},
   "source": [
    "## Support"
   ]
  },
  {
   "cell_type": "markdown",
   "metadata": {},
   "source": [
    "Type of support, website of the company creating/ hosing§ the game"
   ]
  },
  {
   "cell_type": "code",
   "execution_count": 6,
   "metadata": {},
   "outputs": [
    {
     "data": {
      "text/html": [
       "<div>\n",
       "<style scoped>\n",
       "    .dataframe tbody tr th:only-of-type {\n",
       "        vertical-align: middle;\n",
       "    }\n",
       "\n",
       "    .dataframe tbody tr th {\n",
       "        vertical-align: top;\n",
       "    }\n",
       "\n",
       "    .dataframe thead th {\n",
       "        text-align: right;\n",
       "    }\n",
       "</style>\n",
       "<table border=\"1\" class=\"dataframe\">\n",
       "  <thead>\n",
       "    <tr style=\"text-align: right;\">\n",
       "      <th></th>\n",
       "      <th>steam_appid</th>\n",
       "      <th>website</th>\n",
       "      <th>support_url</th>\n",
       "      <th>support_email</th>\n",
       "    </tr>\n",
       "  </thead>\n",
       "  <tbody>\n",
       "    <tr>\n",
       "      <td>0</td>\n",
       "      <td>10</td>\n",
       "      <td>NaN</td>\n",
       "      <td>http://steamcommunity.com/app/10</td>\n",
       "      <td>NaN</td>\n",
       "    </tr>\n",
       "    <tr>\n",
       "      <td>1</td>\n",
       "      <td>30</td>\n",
       "      <td>http://www.dayofdefeat.com/</td>\n",
       "      <td>NaN</td>\n",
       "      <td>NaN</td>\n",
       "    </tr>\n",
       "    <tr>\n",
       "      <td>2</td>\n",
       "      <td>50</td>\n",
       "      <td>NaN</td>\n",
       "      <td>https://help.steampowered.com</td>\n",
       "      <td>NaN</td>\n",
       "    </tr>\n",
       "    <tr>\n",
       "      <td>3</td>\n",
       "      <td>70</td>\n",
       "      <td>http://www.half-life.com/</td>\n",
       "      <td>http://steamcommunity.com/app/70</td>\n",
       "      <td>NaN</td>\n",
       "    </tr>\n",
       "    <tr>\n",
       "      <td>4</td>\n",
       "      <td>80</td>\n",
       "      <td>NaN</td>\n",
       "      <td>http://steamcommunity.com/app/80</td>\n",
       "      <td>NaN</td>\n",
       "    </tr>\n",
       "  </tbody>\n",
       "</table>\n",
       "</div>"
      ],
      "text/plain": [
       "   steam_appid                      website                       support_url  \\\n",
       "0           10                          NaN  http://steamcommunity.com/app/10   \n",
       "1           30  http://www.dayofdefeat.com/                               NaN   \n",
       "2           50                          NaN     https://help.steampowered.com   \n",
       "3           70    http://www.half-life.com/  http://steamcommunity.com/app/70   \n",
       "4           80                          NaN  http://steamcommunity.com/app/80   \n",
       "\n",
       "  support_email  \n",
       "0           NaN  \n",
       "1           NaN  \n",
       "2           NaN  \n",
       "3           NaN  \n",
       "4           NaN  "
      ]
     },
     "execution_count": 6,
     "metadata": {},
     "output_type": "execute_result"
    }
   ],
   "source": [
    "pd_support = pd.read_csv(os.getcwd() + '/steam-store-games/steam_support_info.csv')\n",
    "pd_support.head()"
   ]
  },
  {
   "cell_type": "markdown",
   "metadata": {},
   "source": [
    "## Tags"
   ]
  },
  {
   "cell_type": "markdown",
   "metadata": {},
   "source": [
    "Tags of the game. The more upvote a type ge,m the more accuratre this tag is. This could be one of the feature of our network but it requires the processing of the keypoints before anything else."
   ]
  },
  {
   "cell_type": "code",
   "execution_count": 7,
   "metadata": {},
   "outputs": [
    {
     "data": {
      "text/html": [
       "<div>\n",
       "<style scoped>\n",
       "    .dataframe tbody tr th:only-of-type {\n",
       "        vertical-align: middle;\n",
       "    }\n",
       "\n",
       "    .dataframe tbody tr th {\n",
       "        vertical-align: top;\n",
       "    }\n",
       "\n",
       "    .dataframe thead th {\n",
       "        text-align: right;\n",
       "    }\n",
       "</style>\n",
       "<table border=\"1\" class=\"dataframe\">\n",
       "  <thead>\n",
       "    <tr style=\"text-align: right;\">\n",
       "      <th></th>\n",
       "      <th>appid</th>\n",
       "      <th>1980s</th>\n",
       "      <th>1990s</th>\n",
       "      <th>2.5d</th>\n",
       "      <th>2d</th>\n",
       "      <th>2d_fighter</th>\n",
       "      <th>360_video</th>\n",
       "      <th>3d</th>\n",
       "      <th>3d_platformer</th>\n",
       "      <th>3d_vision</th>\n",
       "      <th>...</th>\n",
       "      <th>warhammer_40k</th>\n",
       "      <th>web_publishing</th>\n",
       "      <th>werewolves</th>\n",
       "      <th>western</th>\n",
       "      <th>word_game</th>\n",
       "      <th>world_war_i</th>\n",
       "      <th>world_war_ii</th>\n",
       "      <th>wrestling</th>\n",
       "      <th>zombies</th>\n",
       "      <th>e_sports</th>\n",
       "    </tr>\n",
       "  </thead>\n",
       "  <tbody>\n",
       "    <tr>\n",
       "      <td>0</td>\n",
       "      <td>10</td>\n",
       "      <td>144</td>\n",
       "      <td>564</td>\n",
       "      <td>0</td>\n",
       "      <td>0</td>\n",
       "      <td>0</td>\n",
       "      <td>0</td>\n",
       "      <td>0</td>\n",
       "      <td>0</td>\n",
       "      <td>0</td>\n",
       "      <td>...</td>\n",
       "      <td>0</td>\n",
       "      <td>0</td>\n",
       "      <td>0</td>\n",
       "      <td>0</td>\n",
       "      <td>0</td>\n",
       "      <td>0</td>\n",
       "      <td>0</td>\n",
       "      <td>0</td>\n",
       "      <td>0</td>\n",
       "      <td>550</td>\n",
       "    </tr>\n",
       "    <tr>\n",
       "      <td>1</td>\n",
       "      <td>20</td>\n",
       "      <td>0</td>\n",
       "      <td>71</td>\n",
       "      <td>0</td>\n",
       "      <td>0</td>\n",
       "      <td>0</td>\n",
       "      <td>0</td>\n",
       "      <td>0</td>\n",
       "      <td>0</td>\n",
       "      <td>0</td>\n",
       "      <td>...</td>\n",
       "      <td>0</td>\n",
       "      <td>0</td>\n",
       "      <td>0</td>\n",
       "      <td>0</td>\n",
       "      <td>0</td>\n",
       "      <td>0</td>\n",
       "      <td>0</td>\n",
       "      <td>0</td>\n",
       "      <td>0</td>\n",
       "      <td>0</td>\n",
       "    </tr>\n",
       "    <tr>\n",
       "      <td>2</td>\n",
       "      <td>30</td>\n",
       "      <td>0</td>\n",
       "      <td>0</td>\n",
       "      <td>0</td>\n",
       "      <td>0</td>\n",
       "      <td>0</td>\n",
       "      <td>0</td>\n",
       "      <td>0</td>\n",
       "      <td>0</td>\n",
       "      <td>0</td>\n",
       "      <td>...</td>\n",
       "      <td>0</td>\n",
       "      <td>0</td>\n",
       "      <td>0</td>\n",
       "      <td>0</td>\n",
       "      <td>0</td>\n",
       "      <td>5</td>\n",
       "      <td>122</td>\n",
       "      <td>0</td>\n",
       "      <td>0</td>\n",
       "      <td>0</td>\n",
       "    </tr>\n",
       "    <tr>\n",
       "      <td>3</td>\n",
       "      <td>40</td>\n",
       "      <td>0</td>\n",
       "      <td>0</td>\n",
       "      <td>0</td>\n",
       "      <td>0</td>\n",
       "      <td>0</td>\n",
       "      <td>0</td>\n",
       "      <td>0</td>\n",
       "      <td>0</td>\n",
       "      <td>0</td>\n",
       "      <td>...</td>\n",
       "      <td>0</td>\n",
       "      <td>0</td>\n",
       "      <td>0</td>\n",
       "      <td>0</td>\n",
       "      <td>0</td>\n",
       "      <td>0</td>\n",
       "      <td>0</td>\n",
       "      <td>0</td>\n",
       "      <td>0</td>\n",
       "      <td>0</td>\n",
       "    </tr>\n",
       "    <tr>\n",
       "      <td>4</td>\n",
       "      <td>50</td>\n",
       "      <td>0</td>\n",
       "      <td>77</td>\n",
       "      <td>0</td>\n",
       "      <td>0</td>\n",
       "      <td>0</td>\n",
       "      <td>0</td>\n",
       "      <td>0</td>\n",
       "      <td>0</td>\n",
       "      <td>0</td>\n",
       "      <td>...</td>\n",
       "      <td>0</td>\n",
       "      <td>0</td>\n",
       "      <td>0</td>\n",
       "      <td>0</td>\n",
       "      <td>0</td>\n",
       "      <td>0</td>\n",
       "      <td>0</td>\n",
       "      <td>0</td>\n",
       "      <td>0</td>\n",
       "      <td>0</td>\n",
       "    </tr>\n",
       "  </tbody>\n",
       "</table>\n",
       "<p>5 rows × 372 columns</p>\n",
       "</div>"
      ],
      "text/plain": [
       "   appid  1980s  1990s  2.5d  2d  2d_fighter  360_video  3d  3d_platformer  \\\n",
       "0     10    144    564     0   0           0          0   0              0   \n",
       "1     20      0     71     0   0           0          0   0              0   \n",
       "2     30      0      0     0   0           0          0   0              0   \n",
       "3     40      0      0     0   0           0          0   0              0   \n",
       "4     50      0     77     0   0           0          0   0              0   \n",
       "\n",
       "   3d_vision  ...  warhammer_40k  web_publishing  werewolves  western  \\\n",
       "0          0  ...              0               0           0        0   \n",
       "1          0  ...              0               0           0        0   \n",
       "2          0  ...              0               0           0        0   \n",
       "3          0  ...              0               0           0        0   \n",
       "4          0  ...              0               0           0        0   \n",
       "\n",
       "   word_game  world_war_i  world_war_ii  wrestling  zombies  e_sports  \n",
       "0          0            0             0          0        0       550  \n",
       "1          0            0             0          0        0         0  \n",
       "2          0            5           122          0        0         0  \n",
       "3          0            0             0          0        0         0  \n",
       "4          0            0             0          0        0         0  \n",
       "\n",
       "[5 rows x 372 columns]"
      ]
     },
     "execution_count": 7,
     "metadata": {},
     "output_type": "execute_result"
    }
   ],
   "source": [
    "pd_tag = pd.read_csv(os.getcwd() + '/steam-store-games/steamspy_tag_data.csv')\n",
    "pd_tag.head()"
   ]
  },
  {
   "cell_type": "markdown",
   "metadata": {},
   "source": [
    "# Pre-Processing"
   ]
  },
  {
   "cell_type": "markdown",
   "metadata": {},
   "source": [
    "Here, we convert the date into the month and year"
   ]
  },
  {
   "cell_type": "code",
   "execution_count": 8,
   "metadata": {},
   "outputs": [],
   "source": [
    "#int(pd_content['release_date'][][:-6])\n",
    "month = []\n",
    "year = []\n",
    "for date in pd_content['release_date'].values:\n",
    "    year.append(int(date[:-6]))\n",
    "    month.append(int(date[5:-3]))"
   ]
  },
  {
   "cell_type": "code",
   "execution_count": 9,
   "metadata": {},
   "outputs": [],
   "source": [
    "pd_content['month'] = month\n",
    "pd_content['year'] = year"
   ]
  },
  {
   "cell_type": "markdown",
   "metadata": {},
   "source": [
    "### Realase month for games (all year mixed)"
   ]
  },
  {
   "cell_type": "code",
   "execution_count": 229,
   "metadata": {},
   "outputs": [],
   "source": [
    "import matplotlib \n",
    "matplotlib.rcParams.update({'font.size': 20})\n",
    "\n",
    "\n",
    "def print_bar_plot(dict, figsize=(25,10), labels=[\"axis0\", \"axis1\"], ticksize =20):\n",
    "    plt.figure(figsize=figsize)\n",
    "    #plt.hist(pd_content[\"month\"], rwidth=0.5, align='center')#[dic_month[i] for i in pd_content[\"month\"] ])\n",
    "    plt.bar(dict.unique(), dict.value_counts()[dict.unique()], width=0.5)\n",
    "\n",
    "    for index, i in enumerate((dict.unique())):\n",
    "        v =  dict.value_counts()[i]\n",
    "        if (type(i) == str):\n",
    "            plt.text(index-.25, v*(1.05), str(v), color='black', fontweight='bold')\n",
    "        else : \n",
    "            plt.text(i-.25, v*(1.05), str(v), color='black', fontweight='bold')\n",
    "    plt.xlabel(labels[0])\n",
    "    plt.xticks(dict.unique(), fontsize=ticksize)\n",
    "    plt.ylabel(labels[1])\n",
    "    plt.ylim(0,max(dict.value_counts())*1.1)\n",
    "    \n",
    "    plt.show()"
   ]
  },
  {
   "cell_type": "code",
   "execution_count": 230,
   "metadata": {},
   "outputs": [
    {
     "data": {
      "image/png": "[encoded data removed]",
      "text/plain": [
       "<Figure size 1800x720 with 1 Axes>"
      ]
     },
     "metadata": {
      "needs_background": "light"
     },
     "output_type": "display_data"
    }
   ],
   "source": [
    "print_bar_plot(pd_content[\"month\"], figsize=(25,10), labels= [\"Month of release\", \"Number of games\"])"
   ]
  },
  {
   "cell_type": "markdown",
   "metadata": {},
   "source": [
    "Some months are prefered to release games. Those values are from all the games on the platform but the number of recent games shows a behavior that is to release games before christmas and in january."
   ]
  },
  {
   "cell_type": "markdown",
   "metadata": {},
   "source": [
    "### Realase year for games (all year mixed)"
   ]
  },
  {
   "cell_type": "code",
   "execution_count": 231,
   "metadata": {},
   "outputs": [
    {
     "data": {
      "image/png": "[encoded data removed]",
      "text/plain": [
       "<Figure size 2160x720 with 1 Axes>"
      ]
     },
     "metadata": {
      "needs_background": "light"
     },
     "output_type": "display_data"
    }
   ],
   "source": [
    "print_bar_plot(pd_content['year'], figsize=(30,10), labels = [\"Year of release\", \"Number of games\"])"
   ]
  },
  {
   "cell_type": "markdown",
   "metadata": {},
   "source": [
    "Shows that more and more games are being produced over the years"
   ]
  },
  {
   "cell_type": "markdown",
   "metadata": {},
   "source": [
    "### Number of owners for games"
   ]
  },
  {
   "cell_type": "code",
   "execution_count": 236,
   "metadata": {},
   "outputs": [
    {
     "data": {
      "image/png": "[encoded data removed]",
      "text/plain": [
       "<Figure size 3600x720 with 1 Axes>"
      ]
     },
     "metadata": {
      "needs_background": "light"
     },
     "output_type": "display_data"
    }
   ],
   "source": [
    "#plt.hist(pd_content['owners'].value_counts())\n",
    "matplotlib.rcParams.update({'font.size': 20})\n",
    "\n",
    "print_bar_plot(pd_content['owners'], figsize=(50,10), labels = [\"Number of owners\", \"Number of games\"], ticksize = 15)"
   ]
  },
  {
   "cell_type": "markdown",
   "metadata": {},
   "source": [
    "2 types of games : heavy sold games and \"niche\" games with a low market and fewer customers"
   ]
  },
  {
   "cell_type": "markdown",
   "metadata": {},
   "source": [
    "### Number of game per studio on steam"
   ]
  },
  {
   "cell_type": "code",
   "execution_count": 13,
   "metadata": {},
   "outputs": [
    {
     "data": {
      "text/plain": [
       "Choice of Games               94\n",
       "KOEI TECMO GAMES CO., LTD.    72\n",
       "Ripknot Systems               62\n",
       "Laush Dmitriy Sergeevich      51\n",
       "Nikita \"Ghost_RUS\"            50\n",
       "                              ..\n",
       "Vector Games                   1\n",
       "Rollman team                   1\n",
       "Relative Games                 1\n",
       "Vectorush                      1\n",
       "Second Dimension Games         1\n",
       "Name: developer, Length: 17113, dtype: int64"
      ]
     },
     "execution_count": 13,
     "metadata": {},
     "output_type": "execute_result"
    }
   ],
   "source": [
    "pd_content['developer'].value_counts()"
   ]
  },
  {
   "cell_type": "markdown",
   "metadata": {},
   "source": [
    "## Minimum requirements "
   ]
  },
  {
   "cell_type": "code",
   "execution_count": 15,
   "metadata": {},
   "outputs": [
    {
     "name": "stdout",
     "output_type": "stream",
     "text": [
      "27319\n",
      "24293\n",
      "27319\n"
     ]
    }
   ],
   "source": [
    "print(len(pd_requirements))\n",
    "\n",
    "\n",
    "mem = []\n",
    "\n",
    "numbers = [0,1,2,3,4,5,6,7,8,9]\n",
    "count = 0\n",
    "for requirement in pd_requirements['minimum']:\n",
    "    #print(requirement)\n",
    "    index = str(requirement).find(\"Memory:\")\n",
    "    if  index !=-1  and str(requirement).find(\"RAM\")!=-1:\n",
    "        \n",
    "        \n",
    "        stop = None\n",
    "        number = \"\"\n",
    "        \n",
    "        for i,letter in enumerate(requirement[index+7:]):\n",
    "            if letter.isnumeric() and i< 10:\n",
    "                number+=letter\n",
    "                stop = index+7+i\n",
    "                \n",
    "        for i,letter in enumerate(requirement[stop:]):\n",
    "            \n",
    "            if (stop is not None) and i< 3 and requirement[stop+1+i] in [\"m\",\"M\",\"k\",\"K\",\"g\",\"G\"]:\n",
    "                if(requirement[stop+1+i] in [\"k\",\"K\"]):\n",
    "                    number+=\"000000\"\n",
    "                if(requirement[stop+1+i] in [\"m\",\"M\"]):\n",
    "                    number+=\"000000\"\n",
    "                if(requirement[stop+1+i] in [\"g\",\"G\"]):\n",
    "                    number+=\"000000000\"\n",
    "        if number is not \"\" and int(number)<64e9 :\n",
    "            #print((number))\n",
    "            count +=1\n",
    "            mem.append(int(number))\n",
    "        else:\n",
    "            mem.append(0)\n",
    "    else:\n",
    "        mem.append(0)\n",
    "        \n",
    "print(count)\n",
    "print(len(mem))"
   ]
  },
  {
   "cell_type": "code",
   "execution_count": 16,
   "metadata": {},
   "outputs": [],
   "source": [
    "pd_requirements['min_RAM'] = mem"
   ]
  },
  {
   "cell_type": "code",
   "execution_count": 17,
   "metadata": {},
   "outputs": [
    {
     "data": {
      "text/plain": [
       "2000000000    5824\n",
       "4000000000    5069\n",
       "1000000000    4026\n",
       "512000000     3045\n",
       "0             3027\n",
       "              ... \n",
       "870000000        1\n",
       "123000000        1\n",
       "2148000000       1\n",
       "5500000000       1\n",
       "1820000000       1\n",
       "Name: min_RAM, Length: 141, dtype: int64"
      ]
     },
     "execution_count": 17,
     "metadata": {},
     "output_type": "execute_result"
    }
   ],
   "source": [
    "pd_requirements['min_RAM'].value_counts()"
   ]
  },
  {
   "cell_type": "code",
   "execution_count": null,
   "metadata": {},
   "outputs": [],
   "source": [
    "plt.hist(pd_requirements['min_RAM'], figsize =(20,20))"
   ]
  },
  {
   "cell_type": "code",
   "execution_count": null,
   "metadata": {},
   "outputs": [],
   "source": []
  }
 ],
 "metadata": {
  "kernelspec": {
   "display_name": "Python 3",
   "language": "python",
   "name": "python3"
  },
  "language_info": {
   "codemirror_mode": {
    "name": "ipython",
    "version": 3
   },
   "file_extension": ".py",
   "mimetype": "text/x-python",
   "name": "python",
   "nbconvert_exporter": "python",
   "pygments_lexer": "ipython3",
   "version": "3.7.2"
  }
 },
 "nbformat": 4,
 "nbformat_minor": 4
}
